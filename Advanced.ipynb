{
 "cells": [
  {
   "cell_type": "markdown",
   "id": "b1f1ae36-de8b-4066-b814-36df6d925fd6",
   "metadata": {},
   "source": [
    "# Advanced Methods"
   ]
  },
  {
   "cell_type": "markdown",
   "id": "6064410a-168e-4264-858a-1361ce7eb680",
   "metadata": {},
   "source": [
    "## NumPy "
   ]
  },
  {
   "cell_type": "markdown",
   "id": "880cfc68-6e4a-45c2-aa6c-4508f475167f",
   "metadata": {},
   "source": [
    "NumPy is the most fundamental scientific computing package in Python. It allows for the creation of \"NumPy arrays\"; data structures that function nearly identically to lists, but with multiple additional features to facilitate and speed-up numerical calculations.\n",
    "\n",
    "NumPy arrays are homogeneous, leading to a lesser memory consumption and vectorize relevant mathematical operations to apply to all elements."
   ]
  },
  {
   "cell_type": "code",
   "execution_count": null,
   "id": "a51251a3-35e2-4f2d-b5bb-5f467716e1e2",
   "metadata": {},
   "outputs": [],
   "source": [
    "import numpy as np"
   ]
  },
  {
   "cell_type": "code",
   "execution_count": null,
   "id": "70d796b1-5b0b-4113-8496-d49f12231a53",
   "metadata": {},
   "outputs": [],
   "source": [
    "vc = [1, 2, 3]\n",
    "vc"
   ]
  },
  {
   "cell_type": "markdown",
   "id": "816c866c-fbae-4418-9dea-24f8760b0bde",
   "metadata": {},
   "source": [
    "What if you want to multiply every element by 3?"
   ]
  },
  {
   "cell_type": "code",
   "execution_count": null,
   "id": "b7bf69b5-03e8-4e5e-8372-a30c300fe966",
   "metadata": {},
   "outputs": [],
   "source": [
    "3*vc #New list becomes vc repeated 3 times on axis 0."
   ]
  },
  {
   "cell_type": "code",
   "execution_count": null,
   "id": "3235b7b2-3260-495a-a683-44365b90e918",
   "metadata": {},
   "outputs": [],
   "source": [
    "for i in range(len(vc)):\n",
    "    vc[i] = 3*vc[i]\n",
    "vc"
   ]
  },
  {
   "cell_type": "markdown",
   "id": "c1d41dd8-ffe8-4771-a8ab-d6b89a863db0",
   "metadata": {},
   "source": [
    "Instead of iterating over a for loop each time we want to apply an operation to every element of an array, we use the inherent functionality of a NumPy array:"
   ]
  },
  {
   "cell_type": "code",
   "execution_count": null,
   "id": "e1f65e7d-32bf-4056-be0a-a397a090e17a",
   "metadata": {},
   "outputs": [],
   "source": [
    "vc1 = np.array([1, 2, 3])\n",
    "vc1"
   ]
  },
  {
   "cell_type": "code",
   "execution_count": null,
   "id": "ee772982-8646-4063-a298-15ea23501a06",
   "metadata": {},
   "outputs": [],
   "source": [
    "3*vc1"
   ]
  },
  {
   "cell_type": "markdown",
   "id": "5c90f266-8a2f-4081-8bf4-472ed3cfa3f1",
   "metadata": {},
   "source": [
    "Besides convenience, NumPy is intelligently designed to perform array operations far quicker!"
   ]
  },
  {
   "cell_type": "code",
   "execution_count": null,
   "id": "7a79d35d-d683-44f6-9ae3-b2e79bf21dfd",
   "metadata": {},
   "outputs": [],
   "source": [
    "vc2 = np.ones(100000) #Shift-tab inside np.ones(."
   ]
  },
  {
   "cell_type": "code",
   "execution_count": null,
   "id": "c9bda3aa-4262-47e7-9256-912cd3452cd7",
   "metadata": {},
   "outputs": [],
   "source": [
    "import time \n",
    "\n",
    "begin = time.time()\n",
    "vc3 = 11*vc2**2/np.exp(vc2)\n",
    "end = time.time()\n",
    "\n",
    "interval = end-begin\n",
    "print(\"{} seconds\".format(interval))"
   ]
  },
  {
   "cell_type": "code",
   "execution_count": null,
   "id": "0486e025-bdff-404d-9c39-e593235a499a",
   "metadata": {},
   "outputs": [],
   "source": [
    "import time \n",
    "\n",
    "begin = time.time()\n",
    "for i in range(np.size(vc2)):\n",
    "    vc2[i] = 11*vc2[i]**2/np.exp(vc2[i])\n",
    "end = time.time()\n",
    "interval2 = end-begin\n",
    "print(\"{} seconds\".format(interval2))"
   ]
  },
  {
   "cell_type": "code",
   "execution_count": null,
   "id": "314d16ac-0276-40a8-b1cd-ec47b5442997",
   "metadata": {},
   "outputs": [],
   "source": [
    "interval2/interval"
   ]
  },
  {
   "cell_type": "markdown",
   "id": "cef8356e-93cf-4c76-abd7-4425d29ac300",
   "metadata": {},
   "source": [
    "### Convenient NumPy functions:"
   ]
  },
  {
   "cell_type": "code",
   "execution_count": null,
   "id": "cab1392d-16b9-4ce4-bc93-5796bfdc774e",
   "metadata": {},
   "outputs": [],
   "source": [
    "np.zeros(10) #Shift-tab for documentation!"
   ]
  },
  {
   "cell_type": "code",
   "execution_count": null,
   "id": "28527574-12f5-4a04-bd18-0e73d8efb17a",
   "metadata": {},
   "outputs": [],
   "source": [
    "np.ones(10)"
   ]
  },
  {
   "cell_type": "code",
   "execution_count": null,
   "id": "b342591e-e7d8-45dd-abaa-886fac3a3911",
   "metadata": {},
   "outputs": [],
   "source": [
    "c = np.arange(4) #Like range, but every element is in a numpy array.\n",
    "c"
   ]
  },
  {
   "cell_type": "code",
   "execution_count": null,
   "id": "35dc7f45-01f1-403e-8502-a46d28985fb0",
   "metadata": {},
   "outputs": [],
   "source": [
    "c.max()"
   ]
  },
  {
   "cell_type": "code",
   "execution_count": null,
   "id": "056f81d3-39ff-428f-8b8e-1c24e37a4586",
   "metadata": {},
   "outputs": [],
   "source": [
    "c.min()"
   ]
  },
  {
   "cell_type": "code",
   "execution_count": null,
   "id": "26c860f9-c578-4d37-b263-7fb28a4f7e37",
   "metadata": {},
   "outputs": [],
   "source": [
    "c.sum()"
   ]
  },
  {
   "cell_type": "code",
   "execution_count": null,
   "id": "71d594bd-703d-4070-9e0d-7f931fbbdde1",
   "metadata": {},
   "outputs": [],
   "source": [
    "sp = np.linspace(0,1,11)\n",
    "sp"
   ]
  },
  {
   "cell_type": "code",
   "execution_count": null,
   "id": "9ccc6fe3-44a9-452f-a85b-81b68f14f1dd",
   "metadata": {},
   "outputs": [],
   "source": [
    "four_by_three = np.ones((4,3))\n",
    "four_by_three.shape"
   ]
  },
  {
   "cell_type": "code",
   "execution_count": null,
   "id": "334f4a7a-1005-4261-9fd5-653d5ae3291b",
   "metadata": {},
   "outputs": [],
   "source": [
    "for i in range((four_by_three.shape)[0]):\n",
    "    for j in range((four_by_three.shape)[1]):\n",
    "        print(\"row {}, column {}\".format(i,j))"
   ]
  },
  {
   "cell_type": "code",
   "execution_count": null,
   "id": "ca5b17d1-6899-4268-8d3b-f9a7ad6dbdb4",
   "metadata": {},
   "outputs": [],
   "source": [
    "a = np.arange(6)\n",
    "a"
   ]
  },
  {
   "cell_type": "code",
   "execution_count": null,
   "id": "88779604-7adf-4a87-a5bc-4b1dbf4bb6d3",
   "metadata": {},
   "outputs": [],
   "source": [
    "b = a.reshape(3, 2)\n",
    "b"
   ]
  },
  {
   "cell_type": "markdown",
   "id": "51e07075-30aa-48a9-a2ce-480775bbcd3b",
   "metadata": {},
   "source": [
    "## Array Operations"
   ]
  },
  {
   "cell_type": "markdown",
   "id": "08f86fc7-bcbd-4c02-b530-fa07868e356f",
   "metadata": {},
   "source": [
    "When performing operations with arrays, note array dimensions!"
   ]
  },
  {
   "cell_type": "code",
   "execution_count": null,
   "id": "21b55f14-1958-47e3-9151-eb8e4e51228b",
   "metadata": {},
   "outputs": [],
   "source": [
    "x = (np.arange(4)).reshape(2,2)\n",
    "y = (np.arange(4,8)).reshape(2,2)\n",
    "print(x)\n",
    "print(y)"
   ]
  },
  {
   "cell_type": "code",
   "execution_count": null,
   "id": "e505ec5a-77da-412e-83ca-72c2ddca77d5",
   "metadata": {},
   "outputs": [],
   "source": [
    "x+y"
   ]
  },
  {
   "cell_type": "code",
   "execution_count": null,
   "id": "c8089868-84f9-4fef-bb8e-74c4055fd4ba",
   "metadata": {},
   "outputs": [],
   "source": [
    "x*y"
   ]
  },
  {
   "cell_type": "code",
   "execution_count": null,
   "id": "c2003f6b-1538-4e89-a70c-a0c389756eb6",
   "metadata": {},
   "outputs": [],
   "source": [
    "x/y"
   ]
  },
  {
   "cell_type": "code",
   "execution_count": null,
   "id": "8bee1208-590a-4baa-a98e-eec3f1576fd1",
   "metadata": {},
   "outputs": [],
   "source": [
    "x.shape"
   ]
  },
  {
   "cell_type": "code",
   "execution_count": null,
   "id": "627b9192-c038-4799-97ed-bcb5756a3fb4",
   "metadata": {},
   "outputs": [],
   "source": [
    "r = np.array([1,2])\n",
    "r.shape"
   ]
  },
  {
   "cell_type": "markdown",
   "id": "41d23600-169f-4bbe-9f4e-fbee597f6156",
   "metadata": {},
   "source": [
    "The above is equivalent to a 1x2 array."
   ]
  },
  {
   "cell_type": "code",
   "execution_count": null,
   "id": "3c90d7d5-aaa2-4b47-8e83-fd41dacd428b",
   "metadata": {},
   "outputs": [],
   "source": [
    "x+r"
   ]
  },
  {
   "cell_type": "code",
   "execution_count": null,
   "id": "cd3f79d6-6b63-4a04-8fa6-70efe45c3849",
   "metadata": {},
   "outputs": [],
   "source": [
    "r = np.array([[1,2]])\n",
    "r.shape"
   ]
  },
  {
   "cell_type": "code",
   "execution_count": null,
   "id": "674dd7dc-0a16-4296-a08a-017ffe5e1f1d",
   "metadata": {},
   "outputs": [],
   "source": [
    "x+r"
   ]
  },
  {
   "cell_type": "code",
   "execution_count": null,
   "id": "66eabfb9-ad43-46fb-8d84-c78ad18afcd0",
   "metadata": {},
   "outputs": [],
   "source": [
    "r = np.array([[1],[2]])\n",
    "r.shape"
   ]
  },
  {
   "cell_type": "code",
   "execution_count": null,
   "id": "69ad4221-fcc6-4be6-8bf4-262309443c09",
   "metadata": {},
   "outputs": [],
   "source": [
    "x+r"
   ]
  },
  {
   "cell_type": "markdown",
   "id": "9258775e-413c-4ff9-98cd-e554be7a77cd",
   "metadata": {},
   "source": [
    "#### What if I want to make an array such that:\n",
    "A = $\\begin{bmatrix} a_{11} & a_{12}\\\\ a_{21} & a_{22} \\end{bmatrix}$, B = $\\begin{bmatrix}\n",
    "b_{11} & b_{12}\\\\\n",
    "b_{21} & b_{22}\n",
    "\\end{bmatrix}$, and C = $\\begin{bmatrix}\n",
    "a_{11}B & a_{12}B\\\\\n",
    "a_{21}B & a_{22}B\n",
    "\\end{bmatrix}$\n"
   ]
  },
  {
   "cell_type": "code",
   "execution_count": null,
   "id": "00a51473-1fd5-4c85-af69-e0b5b30b1313",
   "metadata": {},
   "outputs": [],
   "source": [
    "ref = x[:,:,None,None]"
   ]
  },
  {
   "cell_type": "code",
   "execution_count": null,
   "id": "50c21ed3-b08a-46ed-bab9-ad4f09e992b8",
   "metadata": {},
   "outputs": [],
   "source": [
    "ref.shape"
   ]
  },
  {
   "cell_type": "code",
   "execution_count": null,
   "id": "dc656426-7a53-455e-80f3-11262b5f664a",
   "metadata": {},
   "outputs": [],
   "source": [
    "ref*y"
   ]
  },
  {
   "cell_type": "markdown",
   "id": "f7d75480-b787-461e-8650-fa18f02f76a4",
   "metadata": {},
   "source": [
    "Slicing arrays with \"None\" creates a new axis of length 1. This allows operations between arrays of different dimensions, or customized array multiplication like the above."
   ]
  },
  {
   "cell_type": "markdown",
   "id": "019f2281-c2dc-4a05-b131-6c7eaf63a580",
   "metadata": {},
   "source": [
    "## Examples"
   ]
  },
  {
   "cell_type": "code",
   "execution_count": null,
   "id": "9ebf767f-096c-49a0-be35-755cc4d443e6",
   "metadata": {},
   "outputs": [],
   "source": [
    "import matplotlib.pyplot as plt"
   ]
  },
  {
   "cell_type": "markdown",
   "id": "c7f85c0a-3732-4dbf-931b-a5420523c691",
   "metadata": {},
   "source": [
    "## Check $\\sum_{n=1}^{n} k = \\frac{n(n+1)}{2}$"
   ]
  },
  {
   "cell_type": "code",
   "execution_count": null,
   "id": "cbb96745-16f6-48e2-b560-7ebd6a5a12d7",
   "metadata": {},
   "outputs": [],
   "source": [
    "k = np.arange(1,1000)\n",
    "n = k.size\n",
    "print(n)\n",
    "print(k.sum())\n",
    "print(n*(n+1)/2)"
   ]
  },
  {
   "cell_type": "markdown",
   "id": "f20855b3-7ac7-4c4f-9216-a7739e967674",
   "metadata": {},
   "source": [
    "## Plot xsin(x)"
   ]
  },
  {
   "cell_type": "code",
   "execution_count": null,
   "id": "e3f7bc9b-3b25-49aa-a8a6-7edb4503f969",
   "metadata": {},
   "outputs": [],
   "source": [
    "x = np.linspace(-2*np.pi,2*np.pi,1000)\n",
    "y = x*np.sin(x)\n",
    "\n",
    "plt.plot(x,y)\n",
    "plt.title(\"y vs. x\")\n",
    "plt.xlabel(\"x\")\n",
    "plt.ylabel(\"y = f(x)\")\n",
    "plt.show()"
   ]
  },
  {
   "cell_type": "markdown",
   "id": "e467a8f6-7034-4f05-87d4-0eee8a5a1884",
   "metadata": {},
   "source": [
    "## Linear Algebra"
   ]
  },
  {
   "cell_type": "markdown",
   "id": "32631a73-6b25-4b59-ba65-16fad4172dc8",
   "metadata": {},
   "source": [
    "### Matrix Multiplication"
   ]
  },
  {
   "cell_type": "code",
   "execution_count": null,
   "id": "ae6183d2-325c-453f-80e2-190d25cc11b3",
   "metadata": {},
   "outputs": [],
   "source": [
    "A = np.array([[2, 4], [3,5]])\n",
    "b = np.array([1,2])\n",
    "A@b"
   ]
  },
  {
   "cell_type": "code",
   "execution_count": null,
   "id": "461fa2ed-bce7-4f15-b29f-6a4efb6a97d5",
   "metadata": {},
   "outputs": [],
   "source": [
    "B = np.array([[3,5],[1,2]])\n",
    "A@B"
   ]
  },
  {
   "cell_type": "markdown",
   "id": "54b76414-f291-4c61-832c-c45877d7ceb2",
   "metadata": {},
   "source": [
    "### Transpose"
   ]
  },
  {
   "cell_type": "code",
   "execution_count": null,
   "id": "87d34a61-b124-4787-8edb-1dfbe25baae5",
   "metadata": {},
   "outputs": [],
   "source": [
    "A = np.array([[2, 4], [3,5]])\n",
    "A.T"
   ]
  },
  {
   "cell_type": "markdown",
   "id": "fd783d30-3a7c-44d5-9d9f-cac9ee40a7cd",
   "metadata": {},
   "source": [
    "### Solve Ax = b"
   ]
  },
  {
   "cell_type": "markdown",
   "id": "9e24ba9c-3c2c-4426-ba37-c2bec77e6058",
   "metadata": {},
   "source": [
    "### $$2x+4y = 1 \\\\ 3x+5y = 2$$"
   ]
  },
  {
   "cell_type": "code",
   "execution_count": null,
   "id": "f5b20a5d-2518-4a2e-aa3e-4b4343833ae7",
   "metadata": {},
   "outputs": [],
   "source": [
    "A = np.array([[2, 4], [3,5]])\n",
    "b = np.array([1,2])\n",
    "x = np.linalg.solve(A,b)\n",
    "x"
   ]
  },
  {
   "cell_type": "markdown",
   "id": "13c9f5c5-7c55-4374-aeed-89ee9e6ecdf8",
   "metadata": {},
   "source": [
    "### Find eigenvectors/eigenvalues"
   ]
  },
  {
   "cell_type": "code",
   "execution_count": null,
   "id": "3173f84d-26ff-4860-8bf1-970d984ce730",
   "metadata": {},
   "outputs": [],
   "source": [
    "A = np.array([[2, 0], [0,5]])\n",
    "w, v = np.linalg.eig(A)\n",
    "w"
   ]
  },
  {
   "cell_type": "code",
   "execution_count": null,
   "id": "fde16f61-3cd9-41ce-97ed-98df0c320b69",
   "metadata": {},
   "outputs": [],
   "source": [
    "v #Note, columns are eigenvectors, not rows."
   ]
  },
  {
   "cell_type": "markdown",
   "id": "5b3eb433-2a72-4a6d-b382-84855b922b0f",
   "metadata": {},
   "source": [
    "## Calculus"
   ]
  },
  {
   "cell_type": "markdown",
   "id": "84a6f31a-70b9-4ebb-9dd8-a633a1807241",
   "metadata": {},
   "source": [
    "## Find $\\frac{d}{dx}(x^2+1)$ numerically:"
   ]
  },
  {
   "cell_type": "code",
   "execution_count": null,
   "id": "6c0f58b2-cb52-4fe5-8063-0fd8f995f84f",
   "metadata": {},
   "outputs": [],
   "source": [
    "#Derivative: np.gradient(y(array), dx(step size)).\n",
    "\n",
    "x = np.linspace(0,10,1000)\n",
    "dx = x[1]-x[0]\n",
    "y = x**2 + 1\n",
    "dydx = np.gradient(y, dx)\n",
    "\n",
    "plt.plot(x, dydx)\n",
    "plt.show()"
   ]
  },
  {
   "cell_type": "markdown",
   "id": "17734334-6006-4600-b7cd-41f9a70b9829",
   "metadata": {},
   "source": [
    "## Find $\\int_{-1}^1 x $ numerically:"
   ]
  },
  {
   "cell_type": "code",
   "execution_count": null,
   "id": "5b47b03b-8329-48ae-af00-ab47f4012ce8",
   "metadata": {},
   "outputs": [],
   "source": [
    "#Integral: np.trapz(y(array)).\n",
    "x = np.linspace(-1,1,10000)\n",
    "y = x\n",
    "np.trapz(y)\n"
   ]
  },
  {
   "cell_type": "markdown",
   "id": "6c24bcab-15ba-4e27-b3c3-8ea9418c710e",
   "metadata": {},
   "source": [
    "## Plot $\\int_{0}^x 2x $ numerically:"
   ]
  },
  {
   "cell_type": "code",
   "execution_count": null,
   "id": "01380156-0f76-474d-b99c-fbc9cbea6f18",
   "metadata": {},
   "outputs": [],
   "source": [
    "x = np.linspace(0,3,10000)\n",
    "N = 100\n",
    "res = int(x.size/N)\n",
    "y_list = np.empty(res)\n",
    "ys = 0\n",
    "for i in range(res):\n",
    "    x1 = x[0:(i+1)*N]\n",
    "    ys = np.trapz(2*x1, x = x1)\n",
    "    y_list[i] = ys\n",
    "    "
   ]
  },
  {
   "cell_type": "code",
   "execution_count": null,
   "id": "4b96a846-1516-4bae-a386-f9992d6059c3",
   "metadata": {},
   "outputs": [],
   "source": [
    "plt.plot(x[0:-1:N],y_list)"
   ]
  },
  {
   "cell_type": "markdown",
   "id": "e35769f4-3633-41ab-826e-d03ab7551d52",
   "metadata": {},
   "source": [
    "## Differential Equations"
   ]
  },
  {
   "cell_type": "markdown",
   "id": "aecda4b6-122c-4aab-95fa-1f3534baef0b",
   "metadata": {},
   "source": [
    "## Solve $\\frac{dy}{dt} = ry(M-y)$"
   ]
  },
  {
   "cell_type": "code",
   "execution_count": null,
   "id": "86420006-b0de-4d8a-8acc-d40e37413ca8",
   "metadata": {},
   "outputs": [],
   "source": [
    "from scipy.integrate import odeint"
   ]
  },
  {
   "cell_type": "code",
   "execution_count": null,
   "id": "770070c7-1f31-4df1-b207-c9b2f6c86d1f",
   "metadata": {},
   "outputs": [],
   "source": [
    "#Diffeq on function below:\n",
    "y0 = 1\n",
    "M = 100\n",
    "r = 0.5\n",
    "def dydt(y,t):\n",
    "    return r*y*(M-y)\n"
   ]
  },
  {
   "cell_type": "code",
   "execution_count": null,
   "id": "8b6a060c-11c4-4199-8f12-3c5fb9212d80",
   "metadata": {},
   "outputs": [],
   "source": [
    "#ODEs: odeint(func, y0(scalar), t(array)).\n",
    "t = np.linspace(0,1,1000)\n",
    "sol = odeint(dydt, y0,t)"
   ]
  },
  {
   "cell_type": "code",
   "execution_count": null,
   "id": "a6f684ab-044d-4129-a7de-d8964deaa6af",
   "metadata": {},
   "outputs": [],
   "source": [
    "plt.plot(t,sol)\n",
    "plt.show()"
   ]
  },
  {
   "cell_type": "markdown",
   "id": "d5b67e90-7162-46fe-943e-af3c0fbe233d",
   "metadata": {},
   "source": [
    "## Solve $\\theta''=sin\\theta$"
   ]
  },
  {
   "cell_type": "markdown",
   "id": "54307f19-efa3-45dc-af90-fe78c9c4f5bd",
   "metadata": {},
   "source": [
    "### SciPy can't solve 2nd-order ODEs, so you have to turn this problem into a 1st-order problem. i.e:\n",
    "### define $\\omega = \\frac{d\\theta}{dt}$; then:\n",
    "### $$\\frac{d\\omega}{dt} = sin\\theta\\\\ \\frac{d\\theta}{dt} = \\omega$$\n",
    "\n",
    "### Let S = ($\\theta,$ $\\omega$):"
   ]
  },
  {
   "cell_type": "code",
   "execution_count": null,
   "id": "f9b272c3-a83d-41de-9cc4-9668c57f150a",
   "metadata": {},
   "outputs": [],
   "source": [
    "def dSdt(S,t):\n",
    "    theta, omega = S\n",
    "    return [omega, np.sin(theta)]\n",
    "\n",
    "theta0 = np.pi/2\n",
    "omega0 = 0\n",
    "S0 = (theta0,omega0)"
   ]
  },
  {
   "cell_type": "code",
   "execution_count": null,
   "id": "6f0fa128-483c-48c0-8291-50ad39ceeadc",
   "metadata": {},
   "outputs": [],
   "source": [
    "t = np.linspace(0,20,1000)\n",
    "sol = odeint(dSdt, S0,t)"
   ]
  },
  {
   "cell_type": "code",
   "execution_count": null,
   "id": "1827ae42-e8c9-4f81-8cd4-9c5288f82444",
   "metadata": {},
   "outputs": [],
   "source": [
    "plt.plot(t,sol)\n",
    "plt.legend([\"θ\",\"ω\"])\n",
    "plt.show()"
   ]
  },
  {
   "cell_type": "markdown",
   "id": "14bcb47d-acb4-4f6d-8b5e-b4c108e57882",
   "metadata": {},
   "source": [
    "## Misc. Examples"
   ]
  },
  {
   "cell_type": "markdown",
   "id": "ac4902d7-ca8c-4dba-97c0-2411b493b1ae",
   "metadata": {},
   "source": [
    "## Make a simple root-solver:\n",
    "\n",
    "Newton's method for finding roots:\n",
    "Given initial guess $x_0$: \n",
    "### $$x_{n+1} = x_n - \\frac{f(x_n)}{f'(x_n)}$$"
   ]
  },
  {
   "cell_type": "code",
   "execution_count": null,
   "id": "5dccd923-5c2c-4029-b1b7-8aed536178ee",
   "metadata": {},
   "outputs": [],
   "source": [
    "def roots(func, x0, tol = 1e-6, h = 1e-3): #tol is the max error allowed, h is the step-size for derivative calculations.\n",
    "    error = 1\n",
    "    x = x0\n",
    "    while error>tol:\n",
    "        deriv = (f(x+h)-f(x))/h\n",
    "        xref = x\n",
    "        x = x-func(x)/deriv\n",
    "        error = np.abs(xref-x)\n",
    "    return x"
   ]
  },
  {
   "cell_type": "code",
   "execution_count": null,
   "id": "98c1ae61-194a-484a-9b66-70b03d93ad26",
   "metadata": {},
   "outputs": [],
   "source": [
    "def f(x):\n",
    "    return np.sin(x)"
   ]
  },
  {
   "cell_type": "code",
   "execution_count": null,
   "id": "250e3887-6f7e-4792-8a7a-3101727bd069",
   "metadata": {},
   "outputs": [],
   "source": [
    "roots(f,1)"
   ]
  },
  {
   "cell_type": "code",
   "execution_count": null,
   "id": "2fbe462f-acd1-499e-9b9c-a8030cb25222",
   "metadata": {},
   "outputs": [],
   "source": [
    "roots(f,4)"
   ]
  },
  {
   "cell_type": "markdown",
   "id": "b1036462-c62d-4d94-ba0d-58a6126cc15e",
   "metadata": {},
   "source": [
    "### This is deceptively powerful; given $f(x) = g(x)$, instead of solving the equation analytically for a given x:\n",
    "### $$f(x) = g(x) \\Rightarrow f(x)-g(x) = 0$$\n",
    "### and one can solve for the roots of $f(x) - g(x)$ to find the points of intersection."
   ]
  },
  {
   "cell_type": "markdown",
   "id": "093406d0-1e49-46bc-8d65-4dcf45387ba3",
   "metadata": {},
   "source": [
    "### Solve for x such that: $x = sin(x)$."
   ]
  },
  {
   "cell_type": "code",
   "execution_count": null,
   "id": "57f57d55-ed78-4ab1-9167-0c9088a2a56c",
   "metadata": {},
   "outputs": [],
   "source": [
    "def r(x):\n",
    "    return x-np.sin(x)"
   ]
  },
  {
   "cell_type": "code",
   "execution_count": null,
   "id": "5c9e324f-edef-4295-9af2-fa4dd87b7c32",
   "metadata": {},
   "outputs": [],
   "source": [
    "roots(r,1)"
   ]
  },
  {
   "cell_type": "code",
   "execution_count": null,
   "id": "f4f48897-d2e6-4d62-a37e-efd680168d07",
   "metadata": {},
   "outputs": [],
   "source": [
    "#sin(0.01816907728816747)"
   ]
  },
  {
   "cell_type": "markdown",
   "id": "d89c6735-2831-4bd2-99b0-58e6e2fec4bf",
   "metadata": {},
   "source": [
    "### The 1D heat equation is given by:\n",
    "### $$\\frac{\\partial T}{\\partial t} = \\alpha \\frac{\\partial ^2 T}{\\partial x^2}$$\n",
    "\n"
   ]
  },
  {
   "cell_type": "markdown",
   "id": "1aaa076d-9619-4871-b930-e2b47a7787a8",
   "metadata": {
    "tags": []
   },
   "source": [
    "### One can discretize this PDE to solve for the temperature at the next time step: \n",
    "### $$T_i^{n+1} = T_i^n+\\alpha \\frac{\\Delta t}{\\Delta x^2} (T_{i+1}^n-2T_i^n+T_{i-1}^n)$$"
   ]
  },
  {
   "attachments": {
    "3773cb59-0ba5-41fe-990c-11cadf500fdb.png": {
     "image/png": "[encoded data removed]"
    }
   },
   "cell_type": "markdown",
   "id": "2c57cb3d-c3c6-41e6-b0d9-81b71fa78781",
   "metadata": {},
   "source": [
    "![dumb dumb.png](attachment:3773cb59-0ba5-41fe-990c-11cadf500fdb.png)"
   ]
  },
  {
   "cell_type": "code",
   "execution_count": null,
   "id": "91abf4b4-bae7-445b-b7ac-38ac90b4e140",
   "metadata": {},
   "outputs": [],
   "source": [
    "T0 = 100\n",
    "L = 1\n",
    "Nx = 101\n",
    "dx = L/(N-1)\n",
    "x = np.linspace(0,1,Nx)\n",
    "alpha = 1e-3\n",
    "Nt = 101\n",
    "sigma = 0.50\n",
    "dt = sigma * dx**2 / alpha  \n",
    "\n",
    "def temp(T0, t_steps, delta_t, delta_x, alpha):\n",
    "    T = np.zeros(Nx)\n",
    "    T[0] = T0\n",
    "    sigma = alpha * delta_t / delta_x**2\n",
    "    for n in range(t_steps):\n",
    "        T[1:-1] = (T[1:-1] +\n",
    "                   sigma * (T[2:] - 2.0 * T[1:-1] + T[:-2]))\n",
    "    return T\n",
    "\n",
    "T = temp(T0, Nt, dt, dx, alpha)"
   ]
  },
  {
   "cell_type": "code",
   "execution_count": null,
   "id": "c0cf116d-309a-443a-83b5-50d9f0135aad",
   "metadata": {},
   "outputs": [],
   "source": [
    "# Plot the temperature along the rod.\n",
    "plt.figure(figsize=(6.0, 4.0))\n",
    "plt.xlabel('Distance [m]')\n",
    "plt.ylabel('Temperature [C]')\n",
    "plt.grid()\n",
    "plt.plot(x, T, color='C0', linestyle='-', linewidth=2)\n",
    "plt.xlim(0.0, L)\n",
    "plt.ylim(0.0, 100.0);"
   ]
  },
  {
   "cell_type": "code",
   "execution_count": null,
   "id": "f9c2f566-e4d7-44d0-8d66-45877b9c129f",
   "metadata": {},
   "outputs": [],
   "source": []
  }
 ],
 "metadata": {
  "kernelspec": {
   "display_name": "Python 3 (ipykernel)",
   "language": "python",
   "name": "python3"
  },
  "language_info": {
   "codemirror_mode": {
    "name": "ipython",
    "version": 3
   },
   "file_extension": ".py",
   "mimetype": "text/x-python",
   "name": "python",
   "nbconvert_exporter": "python",
   "pygments_lexer": "ipython3",
   "version": "3.8.11"
  }
 },
 "nbformat": 4,
 "nbformat_minor": 5
}
