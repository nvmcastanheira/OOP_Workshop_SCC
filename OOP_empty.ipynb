{
 "cells": [
  {
   "cell_type": "code",
   "execution_count": null,
   "id": "abfa73d6-a702-4f28-a6ad-153d4003abbb",
   "metadata": {},
   "outputs": [],
   "source": [
    "import numpy as np\n",
    "import matplotlib.pyplot as plt"
   ]
  },
  {
   "cell_type": "markdown",
   "id": "93b91f79-f121-4439-99f6-d586c27d1068",
   "metadata": {},
   "source": [
    "# Classes/Objects"
   ]
  },
  {
   "cell_type": "markdown",
   "id": "7e46fb96-3347-46ca-9324-ae67457a11e6",
   "metadata": {},
   "source": [
    "### Almost everything in Python is an **object**. **Classes** in Python are synonymous with data types. Objects are units of a particular class. Take e.g:"
   ]
  },
  {
   "cell_type": "code",
   "execution_count": null,
   "id": "071b3a9d-ec88-4a0d-97e3-0295054f4167",
   "metadata": {},
   "outputs": [],
   "source": []
  },
  {
   "cell_type": "markdown",
   "id": "3f7606c0-b3dd-48d7-8c37-529f45acef37",
   "metadata": {},
   "source": [
    "### Here's another simple example of a class:"
   ]
  },
  {
   "cell_type": "code",
   "execution_count": null,
   "id": "bd4c4153-5792-46e4-9a5d-9025afff498a",
   "metadata": {},
   "outputs": [],
   "source": []
  },
  {
   "cell_type": "markdown",
   "id": "4e8012b8-da30-449f-8835-241e4a52d220",
   "metadata": {},
   "source": [
    "### I.e, we assigned the variable x to an object of class 'float' corresponding to the output of the function above. The function itself is, as you'd expect, of type 'function'. \n",
    "\n",
    "### 'float' is one of the simplest objects in Python, with almost no distinct tasks assigned to its respective objects. We call the labeled tasks that execute code on objects **methods**. Let's define our first class:"
   ]
  },
  {
   "cell_type": "code",
   "execution_count": null,
   "id": "875aa59d-0e0a-499a-8180-1a1d3f8c1724",
   "metadata": {},
   "outputs": [],
   "source": []
  },
  {
   "cell_type": "code",
   "execution_count": null,
   "id": "70515822-d08a-454a-a756-0e4c2514ccbd",
   "metadata": {},
   "outputs": [],
   "source": []
  },
  {
   "cell_type": "markdown",
   "id": "b4a1af3d-55b1-426a-b76b-f0bf1142e7b0",
   "metadata": {},
   "source": [
    "### Here we define the class Brandon. All Brandons tell Nuno to die. Brandon Sike does so in particular. Defining a class is done with the **class** keyword. \n",
    "\n",
    "### We can define the methods inside our class with the typical function formalism. We pass the keyword **self** as an argument to refer the method to the instance of its class. However, we can pass additional arguments that will be used when defining the class.\n",
    "\n",
    "### Finally, we can define an **attribute** of the class by assigning a variable inside the class. We can also instantiate the attribute with the **\\_\\_init\\_\\_** function name. When this is done, the attribute can be referenced inside of methods by using self.\\<attribute\\>."
   ]
  },
  {
   "cell_type": "code",
   "execution_count": null,
   "id": "98028982-4e4d-4727-8958-3f369bac47cb",
   "metadata": {},
   "outputs": [],
   "source": [
    "\n"
   ]
  },
  {
   "cell_type": "code",
   "execution_count": null,
   "id": "3680d311-689c-4caa-9ca0-baee9fde7076",
   "metadata": {},
   "outputs": [],
   "source": []
  },
  {
   "cell_type": "code",
   "execution_count": null,
   "id": "c7d2cc95-c863-44b6-b88a-524b74991f9b",
   "metadata": {},
   "outputs": [],
   "source": []
  },
  {
   "cell_type": "markdown",
   "id": "777bf4bc-2a3d-4ad9-a386-2a80d30e457c",
   "metadata": {
    "tags": []
   },
   "source": [
    "## Ex: **Defining a Complex Number**"
   ]
  },
  {
   "cell_type": "code",
   "execution_count": null,
   "id": "1003eeab-a853-4826-8e02-80bd9804da37",
   "metadata": {},
   "outputs": [],
   "source": []
  },
  {
   "cell_type": "code",
   "execution_count": null,
   "id": "690f2db9-a700-4a66-914b-0c3529fec597",
   "metadata": {},
   "outputs": [],
   "source": []
  },
  {
   "cell_type": "code",
   "execution_count": null,
   "id": "ce390555-4139-4ed3-9bad-9a80aaa858b9",
   "metadata": {},
   "outputs": [],
   "source": []
  },
  {
   "cell_type": "markdown",
   "id": "540b11bc-fc8b-484b-99a9-a0402a5f48ae",
   "metadata": {
    "tags": []
   },
   "source": [
    "# Inheritance"
   ]
  },
  {
   "cell_type": "markdown",
   "id": "76b46acc-2d40-49e6-b7f1-ff2c0b0a7100",
   "metadata": {},
   "source": [
    "### **Inheritance** refers to the ability of a class to pass down attributes or methods to a new class. To do this, we pass the parent class as an argument to the new class. This allows your code to be recycled easily, and draws connections to real-life object/type hierarchy. "
   ]
  },
  {
   "cell_type": "code",
   "execution_count": null,
   "id": "91a81d80-6aab-40ec-bf87-1b3b1e862ede",
   "metadata": {},
   "outputs": [],
   "source": []
  },
  {
   "cell_type": "code",
   "execution_count": null,
   "id": "d3bab3d8-e2b3-47ee-b822-e8af6ed9acdf",
   "metadata": {},
   "outputs": [],
   "source": []
  },
  {
   "cell_type": "markdown",
   "id": "1efbfde9-e068-4055-a365-211511efc32f",
   "metadata": {},
   "source": [
    "# Polymorphism"
   ]
  },
  {
   "cell_type": "markdown",
   "id": "0498a066-d17f-459c-af15-51985e6d0b3c",
   "metadata": {},
   "source": [
    "### What makes objects and classes so intuitive is the analogies they possess to \"types\" or \"sets\". I.e, with objects, we can assign relevant categories to variables with well-defined parameters. To add to this analogy, we can consider the effect that having a particular trait might have on the object and its methods. \n",
    "\n",
    "### We define polymorphism as the dependence of methods on their respective inputs. We can see polymorphism in functions as well:"
   ]
  },
  {
   "cell_type": "code",
   "execution_count": null,
   "id": "ff7d6e14-2785-4563-9409-6ebb609a9316",
   "metadata": {},
   "outputs": [],
   "source": []
  },
  {
   "cell_type": "code",
   "execution_count": null,
   "id": "13c3d217-8fe3-46dc-938d-0406b5af7f17",
   "metadata": {},
   "outputs": [],
   "source": []
  },
  {
   "cell_type": "markdown",
   "id": "710f72b3-c39a-4ce1-863d-aed231ce6e7c",
   "metadata": {},
   "source": [
    "### When the input is a number, \"add\" returns the sum of its inputs. When the input is a string, \"add\" returns the strings concantenated together.\n",
    "\n",
    "### Let's define a daughter class like the son class before, but let's override the \"characteristics\" method to include the sport and name of the daugher class."
   ]
  },
  {
   "cell_type": "code",
   "execution_count": null,
   "id": "75a52c06-8f01-448b-aefb-31be4713c28a",
   "metadata": {},
   "outputs": [],
   "source": []
  },
  {
   "cell_type": "code",
   "execution_count": null,
   "id": "c72d0d90-dac5-4dce-8326-16ec6682c1ca",
   "metadata": {},
   "outputs": [],
   "source": []
  },
  {
   "cell_type": "markdown",
   "id": "6da0b796-9004-4baa-af47-a48422ca4813",
   "metadata": {},
   "source": [
    "## Ex: Subsets of the Real Numbers"
   ]
  },
  {
   "cell_type": "code",
   "execution_count": null,
   "id": "315e6d2d-3bb1-471e-bf42-2505790724cb",
   "metadata": {},
   "outputs": [],
   "source": [
    "\n"
   ]
  },
  {
   "cell_type": "code",
   "execution_count": null,
   "id": "05ccb7d5-7f4f-45e8-a1f3-91ac5e51f473",
   "metadata": {},
   "outputs": [],
   "source": [
    "\n"
   ]
  },
  {
   "cell_type": "code",
   "execution_count": null,
   "id": "a9d275d9-8b46-4bc8-a141-7aa4f50f4878",
   "metadata": {},
   "outputs": [],
   "source": []
  },
  {
   "cell_type": "code",
   "execution_count": null,
   "id": "2ef8dc4a-86b5-4212-a9d7-d9d45a832f0f",
   "metadata": {},
   "outputs": [],
   "source": []
  },
  {
   "cell_type": "markdown",
   "id": "5cd7f8ee-1aeb-4fa3-8d8d-93d501435e94",
   "metadata": {},
   "source": [
    "# Encapsulation"
   ]
  },
  {
   "cell_type": "markdown",
   "id": "5c57cd58-cb4f-415d-8d84-6bafbfb7f41a",
   "metadata": {},
   "source": [
    "### **Encapsulation** refers to the practice of preventing the access of data inside objects. For example, we can allow data to be protected in our class by prefixing the name of the attribute with and underscore. This allows class attributes to be referenced by the class itself, and any subclasses."
   ]
  },
  {
   "cell_type": "code",
   "execution_count": null,
   "id": "6e166394-4317-4d68-8d4a-a47deb32744e",
   "metadata": {},
   "outputs": [],
   "source": [
    "\n"
   ]
  },
  {
   "cell_type": "code",
   "execution_count": null,
   "id": "2f027ff5-1b49-4aac-a6e3-a53f8b2cc7a8",
   "metadata": {},
   "outputs": [],
   "source": []
  },
  {
   "cell_type": "markdown",
   "id": "007efdee-70a9-48eb-bf95-475e5ed9ca49",
   "metadata": {},
   "source": [
    "### Adding two underscores makes an attribute **private**, which means it cannot be accessed by a subclass of the parent class."
   ]
  },
  {
   "cell_type": "code",
   "execution_count": null,
   "id": "8e4675ce-7358-4768-aba5-ea4af87f7fa5",
   "metadata": {},
   "outputs": [],
   "source": [
    "\n",
    "        "
   ]
  },
  {
   "cell_type": "markdown",
   "id": "7bb83cab-6b7c-44b3-8cf4-36a001a7b409",
   "metadata": {},
   "source": [
    "# Abstraction"
   ]
  },
  {
   "cell_type": "markdown",
   "id": "5a0ee39e-6508-444e-9797-075c78d7d76a",
   "metadata": {},
   "source": [
    "### **Data abstraction** involves the definition of a broad method implemented in the parent class that is defined individually for the subclass. The outcome of this practice is the internal definition of a method that is hidden from the user. To implement abstract methods/classes in Python, we must import the following packages:"
   ]
  },
  {
   "cell_type": "code",
   "execution_count": null,
   "id": "33259ad6-3b4f-476b-9fce-ee0b8f43559e",
   "metadata": {},
   "outputs": [],
   "source": [
    "from abc import ABC, abstractmethod"
   ]
  },
  {
   "cell_type": "markdown",
   "id": "34d0fd94-c8a1-4318-ba57-693e61b040d5",
   "metadata": {},
   "source": [
    "### We pass ABC as an argument, to indicate an abstract class. When defining an abstract method, we add @abstractmethod to the line prior to the definition. Abstract methods can be referred to by the use of the super() keyword. Additionally, each subclass of an abstract class has to define an implementation of the abstract method."
   ]
  },
  {
   "cell_type": "code",
   "execution_count": null,
   "id": "04438c69-ada9-4bc3-b58b-2c74047e9e55",
   "metadata": {},
   "outputs": [],
   "source": []
  },
  {
   "cell_type": "code",
   "execution_count": null,
   "id": "3c7922f1-5ac0-4190-b741-265399ed4252",
   "metadata": {},
   "outputs": [],
   "source": []
  },
  {
   "cell_type": "code",
   "execution_count": null,
   "id": "0b3a5ab3-2640-4bc1-bd04-3ad328528b6d",
   "metadata": {},
   "outputs": [],
   "source": []
  },
  {
   "cell_type": "markdown",
   "id": "78feef20-73d6-4f4d-8b6a-6e107762b2fb",
   "metadata": {},
   "source": [
    "## Ex: **Plotting Methods**"
   ]
  },
  {
   "cell_type": "code",
   "execution_count": null,
   "id": "8afaa71a-883f-4f84-aaf4-daff086e465f",
   "metadata": {},
   "outputs": [],
   "source": []
  },
  {
   "cell_type": "code",
   "execution_count": null,
   "id": "37b68900-1c38-4b9b-a348-36964e1fd7bc",
   "metadata": {},
   "outputs": [],
   "source": [
    "x = np.linspace(-10,10,100)\n",
    "y = np.sin(x)\n",
    "    \n",
    "plot1 = scatter(x,y)\n",
    "\n",
    "plot1.plotly()\n",
    "\n"
   ]
  },
  {
   "cell_type": "code",
   "execution_count": null,
   "id": "41fb3d45-b1ca-4aa7-b80b-b5170558a34b",
   "metadata": {
    "tags": []
   },
   "outputs": [],
   "source": [
    "x = np.linspace(-5,5,200)\n",
    "y = x\n",
    "\n",
    "def vect(x,y):\n",
    "    x0 = x[:,None]\n",
    "    y0 = y[None,:]\n",
    "    u = (x0 + 1)/((x0+1)**2 + y0**2) - (x0 - 1)/((x0-1)**2 + y0**2)\n",
    "    v = y0/((x0+1)**2 + y0**2) - y0/((x0-1)**2 + y0**2)\n",
    "    return [u,v]\n",
    "\n"
   ]
  }
 ],
 "metadata": {
  "kernelspec": {
   "display_name": "Python 3 (ipykernel)",
   "language": "python",
   "name": "python3"
  },
  "language_info": {
   "codemirror_mode": {
    "name": "ipython",
    "version": 3
   },
   "file_extension": ".py",
   "mimetype": "text/x-python",
   "name": "python",
   "nbconvert_exporter": "python",
   "pygments_lexer": "ipython3",
   "version": "3.8.11"
  }
 },
 "nbformat": 4,
 "nbformat_minor": 5
}
