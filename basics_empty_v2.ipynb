{
 "cells": [
  {
   "cell_type": "markdown",
   "id": "966241ff",
   "metadata": {},
   "source": [
    "# Basics"
   ]
  },
  {
   "cell_type": "markdown",
   "id": "697fbe35",
   "metadata": {},
   "source": [
    "If you want to start coding in Python, you'll first want to get familiar with some of the conventions. Unliky many other popular coding languages, Python utilizes \"whitespace\" to structure code. This means that tabs, line breaks, and spaces will all matter. A fortunate side effect of this is that you don't need to end lines with a semicolon. Just hit enter!\n",
    "\n",
    "Regarding the notebook, notice how code blocks are placed into neat boxes. These are called \"cells\" and can be run independently using *shift+enter* or the run button in your toolbar."
   ]
  },
  {
   "cell_type": "markdown",
   "id": "91c1c869",
   "metadata": {},
   "source": [
    "## Print Statements and Comments"
   ]
  },
  {
   "cell_type": "markdown",
   "id": "b400859a",
   "metadata": {},
   "source": [
    "### Comments\n",
    "\n",
    "One of the first things you might want to know is how to do nothing. This may seem silly, but it's actually really useful! In Python (and many other coding languages), you can leave \"comments\" between lines of code, before your code, and even after your code. \n",
    "\n",
    "To do a single line comment, just start the line off with `#`. So something like `# Hello` would leave a comment in your code and not run anything.\n",
    "\n",
    "For a multi-line comment, start off with `'''` and close it with `'''`.\n",
    "\n",
    "Here's an example block of some comments:"
   ]
  },
  {
   "cell_type": "code",
   "execution_count": null,
   "id": "58817dfc",
   "metadata": {},
   "outputs": [],
   "source": [
    "# This is a single line comment\n",
    "\n",
    "'''\n",
    "This is a multi-line comment\n",
    "You can write a whole paragraph in here!\n",
    "'''\n",
    "\n",
    "pass # Does nothing!"
   ]
  },
  {
   "cell_type": "markdown",
   "id": "0753dd8f",
   "metadata": {},
   "source": [
    "If you want, you could try to write your own comment in the next cell:"
   ]
  },
  {
   "cell_type": "code",
   "execution_count": null,
   "id": "97f63a74",
   "metadata": {},
   "outputs": [],
   "source": [
    "# Optional task: Write your own comment or comments\n",
    "# ----- Your code below -----\n",
    "\n"
   ]
  },
  {
   "cell_type": "markdown",
   "id": "8f62a513",
   "metadata": {},
   "source": [
    "You'll be seeing a lot of comments in the upcoming code. Now you know what they are and how to use them!"
   ]
  },
  {
   "cell_type": "markdown",
   "id": "638ac8e7",
   "metadata": {},
   "source": [
    "### Print Statements\n",
    "\n",
    "A `print()` statement allows you to send text to the output box of the cell you're working with. This is generally the quickest way to see results of code that you're running.\n",
    "\n",
    "In order to print text directly, you'll have to surround it in double quotes like `\"this\"` or single quotes like `'that'`. In order to print that text, just put it inside the parenthesis like this: `print(\"text\")`"
   ]
  },
  {
   "cell_type": "code",
   "execution_count": null,
   "id": "d02ac3c4",
   "metadata": {
    "scrolled": true
   },
   "outputs": [],
   "source": [
    "print(\"Example text\")"
   ]
  },
  {
   "cell_type": "markdown",
   "id": "2ff44642",
   "metadata": {},
   "source": [
    "Try writing your own print statement:"
   ]
  },
  {
   "cell_type": "code",
   "execution_count": null,
   "id": "c91e648f",
   "metadata": {},
   "outputs": [],
   "source": [
    "# Task: Write your own print statement\n",
    "# ----- Your code below -----\n",
    "\n"
   ]
  },
  {
   "cell_type": "markdown",
   "id": "8cff6892",
   "metadata": {},
   "source": [
    "Print statements also allow you to print multiple things in the same line. Just add them both into the print statement, separated by a comma, like this: `print('one', 'two')`\n",
    "\n",
    "Try this yourself, if you want:"
   ]
  },
  {
   "cell_type": "code",
   "execution_count": null,
   "id": "6bf7028c",
   "metadata": {},
   "outputs": [],
   "source": [
    "# Optional task: Write a print statement with two or more inputs\n",
    "# ----- Your code below -----\n",
    "\n"
   ]
  },
  {
   "cell_type": "markdown",
   "id": "92e0cca2",
   "metadata": {},
   "source": [
    "## Variables and Data Types"
   ]
  },
  {
   "cell_type": "markdown",
   "id": "14882bec",
   "metadata": {},
   "source": [
    "Variables are a container that stores a value. By assigning a variable, you give a name to a value and can refer to it by that name.\n",
    "\n",
    "You can define a variable using the definition operator `=` like so: `name = value`. If I wanted to define a variable `name` to hold the value of my name, I would write `name = \"Brandon\"`. Since `name` has been defined, I can simply access the value stored within using `name`. For example, I could print it out with `print(name)`."
   ]
  },
  {
   "cell_type": "code",
   "execution_count": null,
   "id": "e4728c32",
   "metadata": {
    "scrolled": true
   },
   "outputs": [],
   "source": [
    "name = 'Brandon'\n",
    "\n",
    "print(name)"
   ]
  },
  {
   "cell_type": "markdown",
   "id": "620aa366",
   "metadata": {},
   "source": [
    "Try to define a variable `name` with the value of your own name, and then print it out:"
   ]
  },
  {
   "cell_type": "code",
   "execution_count": null,
   "id": "6f16bfe8",
   "metadata": {},
   "outputs": [],
   "source": [
    "# Task: Define a variable called 'name' with the value of your own name\n",
    "# and then output it.\n",
    "# ----- Your code below -----\n",
    "\n"
   ]
  },
  {
   "cell_type": "markdown",
   "id": "e586e71f",
   "metadata": {},
   "source": [
    "Python has some naming conventions. You can't use already reserved keywords (i.e. `print`\\*, `pass`) as names of variables. If you want to have multiple words in a variable, it's convention to write it with an underscore as `multiple_words`. It's also convention for variables to be generally lowercase.\n",
    "\n",
    "\\* *you can technically use `print`, but it will overwrite the `print()` function(!)*"
   ]
  },
  {
   "cell_type": "code",
   "execution_count": null,
   "id": "b401b4fd",
   "metadata": {
    "scrolled": false
   },
   "outputs": [],
   "source": [
    "pass = 'hello' # pass is already taken by Python!"
   ]
  },
  {
   "cell_type": "markdown",
   "id": "ef47823a",
   "metadata": {},
   "source": [
    "### Data Types"
   ]
  },
  {
   "cell_type": "markdown",
   "id": "11911806",
   "metadata": {},
   "source": [
    "When coding, you'll have many different types of data. Some could be numbers, words, lists of things, or even just true or false. The technical term for these is **data types**. We're going to explore some of these data types.\n",
    "\n",
    "Also of note: When you declare a variable, you don't actually have to tell Python what type of data it is going to be. This is different from many other languages where you have to be explicit with typing."
   ]
  },
  {
   "cell_type": "markdown",
   "id": "de150769",
   "metadata": {},
   "source": [
    "#### The `type()` Function"
   ]
  },
  {
   "cell_type": "markdown",
   "id": "2a0a713c",
   "metadata": {},
   "source": [
    "One way to check the type of a variable is with the `type()` function. See some examples below:"
   ]
  },
  {
   "cell_type": "code",
   "execution_count": null,
   "id": "a6f0e5ab",
   "metadata": {
    "scrolled": true
   },
   "outputs": [],
   "source": [
    "print(type(1))\n",
    "print(type(1.0))\n",
    "print(type(True))\n",
    "print(type('Hello'))\n",
    "print(type(['a','b']))"
   ]
  },
  {
   "cell_type": "code",
   "execution_count": null,
   "id": "5d734ee6",
   "metadata": {},
   "outputs": [],
   "source": [
    "x = 'word'\n",
    "print(type(x))\n",
    "x = 0\n",
    "print(type(x))"
   ]
  },
  {
   "cell_type": "markdown",
   "id": "279df32b",
   "metadata": {},
   "source": [
    "These are some of the types that we'll be introducing in the workshop.\n",
    "\n",
    "Feel free to mess around with the `type()` function below:"
   ]
  },
  {
   "cell_type": "code",
   "execution_count": null,
   "id": "2257cf8a",
   "metadata": {},
   "outputs": [],
   "source": [
    "# Optional task: Experiment with the type() function\n",
    "# ----- Your code below -----\n",
    "\n"
   ]
  },
  {
   "cell_type": "markdown",
   "id": "72e14e22",
   "metadata": {},
   "source": [
    "### More About Strings"
   ]
  },
  {
   "cell_type": "markdown",
   "id": "09d4d43f",
   "metadata": {},
   "source": [
    "What you've been doing with `\"quotes\"` is actually defining something known as a **string**. A string is essentially some text."
   ]
  },
  {
   "cell_type": "markdown",
   "id": "b0d0d96e",
   "metadata": {},
   "source": [
    "#### String Operations"
   ]
  },
  {
   "cell_type": "markdown",
   "id": "eaf18d9a",
   "metadata": {},
   "source": [
    "Python has some basic operations for strings. One of these is known as **concatenation**, or putting two strings together. This is done with the `+` operator.\n",
    "\n",
    "So saying `\"one\" + \"two\"` would give you `\"onetwo\"`."
   ]
  },
  {
   "cell_type": "code",
   "execution_count": null,
   "id": "142f05fa",
   "metadata": {
    "scrolled": true
   },
   "outputs": [],
   "source": [
    "print(\"Brandon\" + \" \" + \"Sike\")"
   ]
  },
  {
   "cell_type": "markdown",
   "id": "5df3075a",
   "metadata": {},
   "source": [
    "Try to use separate strings to print your own first and last name together:"
   ]
  },
  {
   "cell_type": "code",
   "execution_count": null,
   "id": "4cb3058c",
   "metadata": {},
   "outputs": [],
   "source": [
    "# Task: Concatenate and print your own first and last name\n",
    "# ----- Your code below -----\n",
    "\n"
   ]
  },
  {
   "cell_type": "markdown",
   "id": "08e3ff27",
   "metadata": {},
   "source": [
    "Python provides a way for you to tell how long a string is using the `len()` function. So `len('four')` would return 4, because `'four'` is conveniently 4 characters long."
   ]
  },
  {
   "cell_type": "code",
   "execution_count": null,
   "id": "eac847aa",
   "metadata": {
    "scrolled": true
   },
   "outputs": [],
   "source": [
    "print(len('four'))"
   ]
  },
  {
   "cell_type": "markdown",
   "id": "23b72dce",
   "metadata": {},
   "source": [
    "Try to find the length of your own full name using the `len()` function:"
   ]
  },
  {
   "cell_type": "code",
   "execution_count": null,
   "id": "56b159db",
   "metadata": {},
   "outputs": [],
   "source": [
    "# Task: Find and print the length of your own full name.\n",
    "# ----- Your code below -----\n",
    "\n"
   ]
  },
  {
   "cell_type": "markdown",
   "id": "397874dd",
   "metadata": {},
   "source": [
    "Python includes functions to convert strings to lowercase or uppercase, `lower()` and `upper()` respectively. This is done with `\"string\".lower()` or `\"string\".upper()`.\n",
    "\n",
    "Try to print your own name in lowercase and uppercase:"
   ]
  },
  {
   "cell_type": "code",
   "execution_count": null,
   "id": "b5d63c63",
   "metadata": {},
   "outputs": [],
   "source": [
    "# Task: Print your own name in lowercase and uppercase using the above \n",
    "# functions lower() and upper()\n",
    "# ----- Your code below -----\n",
    "\n"
   ]
  },
  {
   "cell_type": "markdown",
   "id": "20970bf4",
   "metadata": {},
   "source": [
    "#### String Formatting"
   ]
  },
  {
   "cell_type": "markdown",
   "id": "0d3941a3",
   "metadata": {},
   "source": [
    "If you want to insert values within a string, you can use Python's provided `my_string.format()` function to substitute values into your string. This is much easier than building convoluted concatentated strings, and also contains some useful ways to specify how you want things to be outputted.\n",
    "\n",
    "The way to do this is to include curly braces `{}` where you want to substitute values. This will look something like:"
   ]
  },
  {
   "cell_type": "code",
   "execution_count": null,
   "id": "f9e5735d",
   "metadata": {
    "scrolled": true
   },
   "outputs": [],
   "source": [
    "print(\"Number {} within\".format(5))"
   ]
  },
  {
   "cell_type": "markdown",
   "id": "ff3b86fb",
   "metadata": {},
   "source": [
    "Try the following example of combining strings using `format`:"
   ]
  },
  {
   "cell_type": "code",
   "execution_count": null,
   "id": "917bf792",
   "metadata": {},
   "outputs": [],
   "source": [
    "# Task: Using the variables below, make a sentence that says: \n",
    "# \"My first name is <first name> and my last name is <last name>.\"\n",
    "# Use the format() function.\n",
    "# ----- Your code below -----\n",
    "\n",
    "# Modify these names:\n",
    "first_name = 'your first name'\n",
    "last_name = 'your last name'\n",
    "\n",
    "# Write a formatted print statement below:\n"
   ]
  },
  {
   "cell_type": "markdown",
   "id": "42084678",
   "metadata": {},
   "source": [
    "Formatting can get rather complicated, and there are also actually a couple of other ways to go about it. Here's a quick example, but don't focus on it too hard. Just be aware that you might see stuff like this and will probably want to learn how to work with it later."
   ]
  },
  {
   "cell_type": "code",
   "execution_count": null,
   "id": "5d5a8751",
   "metadata": {
    "scrolled": true
   },
   "outputs": [],
   "source": [
    "print(\"Big number %.6e small number %.2e\"%(1.2321492190e10, 9.28217412e-10))\n",
    "world_text = 'the entire world'\n",
    "print(f'hello {world_text}')\n",
    "print('Hex {:x}'.format(16))\n",
    "print('Zerospace {:05}'.format(10))"
   ]
  },
  {
   "cell_type": "markdown",
   "id": "cdd9ce08",
   "metadata": {},
   "source": [
    "#### Escape Characters"
   ]
  },
  {
   "cell_type": "markdown",
   "id": "70db5d8d",
   "metadata": {},
   "source": [
    "Sometimes you might want to include quotes within your string. If you try to do this directly, you could end up with some trouble:"
   ]
  },
  {
   "cell_type": "code",
   "execution_count": null,
   "id": "643b5de7",
   "metadata": {
    "scrolled": true
   },
   "outputs": [],
   "source": [
    "print(\"Brandon said \"hello\" to Nuno\") # won't run!"
   ]
  },
  {
   "cell_type": "markdown",
   "id": "22c8418a",
   "metadata": {},
   "source": [
    "Python, like many other programming languages, has a way to get around this. You use something called an **escape character**. Escape characters will display as you intend them without ending strings or causing other problems.\n",
    "\n",
    "Escape characters are accessed using the backslash `\\`. If you want to include a quote in your string, just substitute it with `\\\"`.\n",
    "\n",
    "So the above line becomes:"
   ]
  },
  {
   "cell_type": "code",
   "execution_count": null,
   "id": "b65e423e",
   "metadata": {
    "scrolled": false
   },
   "outputs": [],
   "source": [
    "print(\"Brandon said \\\"hello\\\" to Nuno\")"
   ]
  },
  {
   "cell_type": "markdown",
   "id": "40103312",
   "metadata": {},
   "source": [
    "Try writing your own print statement that includes quotes within:"
   ]
  },
  {
   "cell_type": "code",
   "execution_count": null,
   "id": "d5baf82e",
   "metadata": {},
   "outputs": [],
   "source": [
    "# Task: Write your own print statement using the quote escape character \\\"\n",
    "# ----- Your code below -----\n",
    "\n"
   ]
  },
  {
   "cell_type": "markdown",
   "id": "9c8321a9",
   "metadata": {},
   "source": [
    "Some useful escape sequences are:\n",
    "\n",
    "* `\\\" -> \"`\n",
    "* `\\' -> '`\n",
    "* `\\\\ -> \\`\n",
    "* `\\n -> (line break)`\n",
    "* `\\t -> (tab)`\n",
    "\n",
    "Feel free to experiment with these escape characters on your own:"
   ]
  },
  {
   "cell_type": "code",
   "execution_count": null,
   "id": "8b02f2f1",
   "metadata": {},
   "outputs": [],
   "source": [
    "# Optional task: Experiment with escape characters within a print \n",
    "# statement\n",
    "# ----- Your code below -----\n",
    "\n"
   ]
  },
  {
   "cell_type": "markdown",
   "id": "ceeb0a77",
   "metadata": {},
   "source": [
    "### Integers, Floats, and Operations"
   ]
  },
  {
   "cell_type": "markdown",
   "id": "ed8ea091",
   "metadata": {},
   "source": [
    "Numbers come in two main types: integers and floats. Integers are whole numbers like `1`, `2`, and `152`, while floats are numbers with parts after the decimal point like `5.2`, `2.0`, and `3.14`. Floats can even be in scientific notation like `3.2e10`. The functional differences between floats and integers aren't too important to us right now.\n",
    "\n",
    "Using numbers in Python is super simple. Just write them out as you expect!"
   ]
  },
  {
   "cell_type": "code",
   "execution_count": null,
   "id": "4628e2a0",
   "metadata": {
    "scrolled": true
   },
   "outputs": [],
   "source": [
    "print(1)\n",
    "print(2.0)\n",
    "print(3.1e5)\n",
    "\n",
    "x = 2.5\n",
    "print(x)"
   ]
  },
  {
   "cell_type": "markdown",
   "id": "e84534b9",
   "metadata": {},
   "source": [
    "#### Number Operations"
   ]
  },
  {
   "cell_type": "markdown",
   "id": "1036763e",
   "metadata": {},
   "source": [
    "Some operations you can perform with numbers are as follows:\n",
    "\n",
    "* `x + y` is addition\n",
    "* `x - y` is substraction\n",
    "* `x * y` is multiplication\n",
    "* `x / y` is division\n",
    "* `x % y` is \"modulus\" (the remainder after whole number division)\n",
    "* `x ** y` is exponentiation (what we know as x^y BUT IT'S NOT THAT IN PYTHON)\n",
    "* `x // y` is \"floor division\" i.e. whole number division"
   ]
  },
  {
   "cell_type": "markdown",
   "id": "6221ce94",
   "metadata": {},
   "source": [
    "Try to do the calculations in the task below:"
   ]
  },
  {
   "cell_type": "code",
   "execution_count": null,
   "id": "c408165f",
   "metadata": {
    "scrolled": true
   },
   "outputs": [],
   "source": [
    "# Task: Calculate the following:\n",
    "# 3.123 plus 4.999\n",
    "# 7.01 minus 7.001\n",
    "# 2 times 3\n",
    "# 15 divided by 6\n",
    "# 2 to the power of 8\n",
    "\n",
    "# ----- Your code below -----\n",
    "\n"
   ]
  },
  {
   "cell_type": "markdown",
   "id": "37ddcd77",
   "metadata": {},
   "source": [
    "In order to interpret your code, Python will actually use an order of operations. We won't get into specifics, but it will primarily follow your intuitional understanding of PEMDAS. You can always just separate things into parenthesis to make your code more clear."
   ]
  },
  {
   "cell_type": "code",
   "execution_count": null,
   "id": "2e25dda4",
   "metadata": {
    "scrolled": true
   },
   "outputs": [],
   "source": [
    "print(3 + 5 * 2)\n",
    "print((3 + 5) * 2)\n",
    "# Not the same output!"
   ]
  },
  {
   "cell_type": "markdown",
   "id": "636b33a4",
   "metadata": {},
   "source": [
    "Python also includes some basic functions for number operations, such as `abs()` which is the absolute value function, and `pow()`, which can compute exponentiation."
   ]
  },
  {
   "cell_type": "code",
   "execution_count": null,
   "id": "4ce8dc92",
   "metadata": {
    "scrolled": true
   },
   "outputs": [],
   "source": [
    "print(abs(5))\n",
    "print(abs(-5))"
   ]
  },
  {
   "cell_type": "code",
   "execution_count": null,
   "id": "0b3a06b3",
   "metadata": {
    "scrolled": true
   },
   "outputs": [],
   "source": [
    "print(pow(2,4))\n",
    "print(pow(2,-1/2))"
   ]
  },
  {
   "cell_type": "markdown",
   "id": "166c3bd5",
   "metadata": {},
   "source": [
    "### Booleans"
   ]
  },
  {
   "cell_type": "markdown",
   "id": "a9e0c0ff",
   "metadata": {},
   "source": [
    "Booleans are the simplest of data types. They can either be `True` or `False`, and can be directly referenced using those (case-sensitive!) keywords."
   ]
  },
  {
   "cell_type": "code",
   "execution_count": null,
   "id": "388283e5",
   "metadata": {},
   "outputs": [],
   "source": [
    "print(True)\n",
    "x = False\n",
    "print(x)"
   ]
  },
  {
   "cell_type": "markdown",
   "id": "4eaf7a03",
   "metadata": {},
   "source": [
    "#### Boolean - Boolean Operations"
   ]
  },
  {
   "cell_type": "markdown",
   "id": "27f3329a",
   "metadata": {},
   "source": [
    "Like the operators we had for numbers, booleans have some of their own operators.\n",
    "\n",
    "* `not a` will return the opposite of `a`\n",
    "* `a and b` will return True iff `a` and `b` are both True\n",
    "* `a or b` will return True if `a` and/or `b` are True\n",
    "* `a ^ b` will return True if `a` or `b` (BUT NOT BOTH) are True"
   ]
  },
  {
   "cell_type": "code",
   "execution_count": null,
   "id": "45805963",
   "metadata": {
    "scrolled": true
   },
   "outputs": [],
   "source": [
    "print(not True)\n",
    "print(True and False)\n",
    "print(True or False)\n",
    "print(True ^ True)"
   ]
  },
  {
   "cell_type": "markdown",
   "id": "e0aa84eb",
   "metadata": {},
   "source": [
    "#### Comparison Operators"
   ]
  },
  {
   "cell_type": "markdown",
   "id": "c892a8e1",
   "metadata": {},
   "source": [
    "Python provides some operators to compare numbers. These all return booleans and are fairly self-explanatory:\n",
    "\n",
    "* `x == y` is True when x is *exactly* equal to y\n",
    "* `x != y` is True when x is *not* equal to y\n",
    "* `x > y` is True when x is greater than y\n",
    "* `x >= y` is True when x is greater than or equal to y\n",
    "* `x < y` is True when x is less than y\n",
    "* `x <= y` is True when x is less than or equal to y"
   ]
  },
  {
   "cell_type": "markdown",
   "id": "b64eb86b",
   "metadata": {},
   "source": [
    "We can use our knowledge of comparison operators to develop more complicated statements:"
   ]
  },
  {
   "cell_type": "code",
   "execution_count": null,
   "id": "6212eb42",
   "metadata": {},
   "outputs": [],
   "source": [
    "x = 10\n",
    "y = 15\n",
    "\n",
    "print(x > y or y > x)"
   ]
  },
  {
   "cell_type": "markdown",
   "id": "18380a7e",
   "metadata": {},
   "source": [
    "## Data Structures"
   ]
  },
  {
   "cell_type": "markdown",
   "id": "21391340",
   "metadata": {},
   "source": [
    "### Lists"
   ]
  },
  {
   "cell_type": "markdown",
   "id": "2fa20bdf",
   "metadata": {},
   "source": [
    "A list is a data structure that stores a collection of items like numbers or strings. Lists are **mutable**, meaning they can be changed. That means adding elements, removing elements, or even modifying elements.\n",
    "\n",
    "To create a list in Python, you enclose comma-separated values within square brackets like below:"
   ]
  },
  {
   "cell_type": "code",
   "execution_count": null,
   "id": "a5c40a14",
   "metadata": {
    "scrolled": false
   },
   "outputs": [],
   "source": [
    "example_list = ['one', 'two', 'three']\n",
    "\n",
    "print(example_list)"
   ]
  },
  {
   "cell_type": "markdown",
   "id": "b863d33d",
   "metadata": {},
   "source": [
    "Try to create your own list of a few numbers:"
   ]
  },
  {
   "cell_type": "code",
   "execution_count": null,
   "id": "34c821a9",
   "metadata": {
    "scrolled": false
   },
   "outputs": [],
   "source": [
    "# Task: Create and print a list of a few numbers.\n",
    "# ----- Your code below -----\n",
    "\n"
   ]
  },
  {
   "cell_type": "markdown",
   "id": "ab66c9fa",
   "metadata": {},
   "source": [
    "#### Indexing Lists"
   ]
  },
  {
   "cell_type": "markdown",
   "id": "7435fcc1",
   "metadata": {},
   "source": [
    "You can access individual elements of the list like so: `list_name[index]`. Python starts indexing at 0, so the item at index 0 is what we know as the \"first\" element of the list."
   ]
  },
  {
   "cell_type": "code",
   "execution_count": null,
   "id": "601bc060",
   "metadata": {
    "scrolled": true
   },
   "outputs": [],
   "source": [
    "print(example_list[0])\n",
    "print(example_list[2])"
   ]
  },
  {
   "cell_type": "markdown",
   "id": "cc67e138",
   "metadata": {},
   "source": [
    "Try and print the element at index 1 of the provided list:"
   ]
  },
  {
   "cell_type": "code",
   "execution_count": null,
   "id": "9c0510fd",
   "metadata": {
    "scrolled": false
   },
   "outputs": [],
   "source": [
    "# Task: Print the element at index 1 of the provided list\n",
    "\n",
    "task_list = [2,3,5,7,11,13]\n",
    "\n",
    "# ----- Your code below -----\n",
    "\n"
   ]
  },
  {
   "cell_type": "markdown",
   "id": "cba75064",
   "metadata": {},
   "source": [
    "#### Modifying Lists"
   ]
  },
  {
   "cell_type": "markdown",
   "id": "1abd132a",
   "metadata": {},
   "source": [
    "Now let's start manipulating the list.\n",
    "\n",
    "The easiest way is to reassign the value at a certain index. This is done just like variable assignment: `my_list[index] = new_value`."
   ]
  },
  {
   "cell_type": "code",
   "execution_count": null,
   "id": "2e30806f",
   "metadata": {
    "scrolled": true
   },
   "outputs": [],
   "source": [
    "example_list = ['one', 'two', 'three']\n",
    "print(example_list)\n",
    "example_list[1] = 'new thing'\n",
    "print(example_list)"
   ]
  },
  {
   "cell_type": "markdown",
   "id": "362be0f2",
   "metadata": {},
   "source": [
    "Try changing the value at index 1 of the provided and printing out the entire changed list:"
   ]
  },
  {
   "cell_type": "code",
   "execution_count": null,
   "id": "e04c9bf7",
   "metadata": {
    "scrolled": true
   },
   "outputs": [],
   "source": [
    "# Task: Change the value at index 1 of this list and print out the new\n",
    "# modified list\n",
    "\n",
    "task_list = [2,3,5,7,11,13]\n",
    "\n",
    "# ----- Your code below -----\n",
    "\n"
   ]
  },
  {
   "cell_type": "markdown",
   "id": "9a189fb3",
   "metadata": {},
   "source": [
    "To add something to your list, use the `append()` function. This is done with `my_list.append(new_item)`."
   ]
  },
  {
   "cell_type": "code",
   "execution_count": null,
   "id": "69c8eefc",
   "metadata": {
    "scrolled": true
   },
   "outputs": [],
   "source": [
    "example_list = ['one', 'two', 'three']\n",
    "print(example_list)\n",
    "example_list.append('four')\n",
    "print(example_list)"
   ]
  },
  {
   "cell_type": "markdown",
   "id": "1e16caf0",
   "metadata": {},
   "source": [
    "Try to add a new item to the end of your own list:"
   ]
  },
  {
   "cell_type": "code",
   "execution_count": null,
   "id": "4e8bbf04",
   "metadata": {
    "scrolled": true
   },
   "outputs": [],
   "source": [
    "# Task: Append a new item to the end of your list. Print out the new list\n",
    "\n",
    "task_list = [2,3,5,7,11,13]\n",
    "\n",
    "# ----- Your code below -----\n",
    "\n"
   ]
  },
  {
   "cell_type": "markdown",
   "id": "cebc75b7",
   "metadata": {},
   "source": [
    "If we want to insert an element somewhere within our list, we can provide a second argument to the `insert` function. This would look like `my_list.insert(index, new_item)`."
   ]
  },
  {
   "cell_type": "code",
   "execution_count": null,
   "id": "2f33916b",
   "metadata": {
    "scrolled": true
   },
   "outputs": [],
   "source": [
    "example_list = ['one', 'two', 'three']\n",
    "print(example_list)\n",
    "example_list.insert(1, 'one and one half')\n",
    "print(example_list)"
   ]
  },
  {
   "cell_type": "markdown",
   "id": "868897dc",
   "metadata": {},
   "source": [
    "Try to insert something into index 2 of the provided list, then print out the entire modified list:"
   ]
  },
  {
   "cell_type": "code",
   "execution_count": null,
   "id": "f11e5619",
   "metadata": {},
   "outputs": [],
   "source": [
    "# Task: Insert a new value into index 2 of the provided list, \n",
    "# then print out the entire modified list.\n",
    "\n",
    "task_list = [2,3,5,7,11,13]\n",
    "\n",
    "# ----- Your code below -----\n",
    "\n"
   ]
  },
  {
   "cell_type": "markdown",
   "id": "7e403752",
   "metadata": {},
   "source": [
    "There are a couple of ways to remove something from a list.\n",
    "\n",
    "The first is by index. This is done with the `my_list.pop(index)` function. This function also returns the value that was \"popped\" from your list."
   ]
  },
  {
   "cell_type": "code",
   "execution_count": null,
   "id": "3784268d",
   "metadata": {
    "scrolled": false
   },
   "outputs": [],
   "source": [
    "example_list = ['one', 'two', 'three']\n",
    "print(example_list)\n",
    "print(example_list.pop(1))\n",
    "print(example_list)"
   ]
  },
  {
   "cell_type": "markdown",
   "id": "16ed5146",
   "metadata": {},
   "source": [
    "Try getting rid of the item at index one of this provided list, then print the new modified list:"
   ]
  },
  {
   "cell_type": "code",
   "execution_count": null,
   "id": "8eb8d52b",
   "metadata": {},
   "outputs": [],
   "source": [
    "# Task: Pop the item at index one of this list, then print the entire list\n",
    "\n",
    "task_list = ['one', 'SEVEN', 'two', 'three']\n",
    "\n",
    "# ----- Your code below -----\n",
    "\n"
   ]
  },
  {
   "cell_type": "markdown",
   "id": "435427d7",
   "metadata": {},
   "source": [
    "Another way to remove an item from a list is by value. This is done with the `my_list.remove(value)` function. This will not return anything, and will give an error if the value is not found."
   ]
  },
  {
   "cell_type": "code",
   "execution_count": null,
   "id": "34be5fb1",
   "metadata": {
    "scrolled": false
   },
   "outputs": [],
   "source": [
    "example_list = ['one', 'two', 'three']\n",
    "print(example_list)\n",
    "example_list.remove('three')\n",
    "print(example_list)"
   ]
  },
  {
   "cell_type": "code",
   "execution_count": null,
   "id": "53230960",
   "metadata": {
    "scrolled": true
   },
   "outputs": [],
   "source": [
    "example_list = ['one', 'two', 'three']\n",
    "example_list.remove('four')"
   ]
  },
  {
   "cell_type": "markdown",
   "id": "b531d7e1",
   "metadata": {},
   "source": [
    "Try to remove the value of \"SIX\" from the provided list:"
   ]
  },
  {
   "cell_type": "code",
   "execution_count": null,
   "id": "7d78f30e",
   "metadata": {},
   "outputs": [],
   "source": [
    "# Task: Remove the erroneous \"SIX\" from the provided list, and print the entire modified list\n",
    "\n",
    "task_list = ['one', 'two', 'SIX', 'three']\n",
    "\n",
    "# ----- Your code below -----\n",
    "\n"
   ]
  },
  {
   "cell_type": "markdown",
   "id": "4a83849d",
   "metadata": {},
   "source": [
    "#### Advanced Indexing and Slicing"
   ]
  },
  {
   "cell_type": "markdown",
   "id": "54262ccc",
   "metadata": {},
   "source": [
    "Strangely enough, Python allows you to index with negative numbers. The item at index `-1` of a list will actually be the last item of that list. See an example below:"
   ]
  },
  {
   "cell_type": "code",
   "execution_count": null,
   "id": "88ab1004",
   "metadata": {
    "scrolled": true
   },
   "outputs": [],
   "source": [
    "indexing_list = ['first', 'second', 'third', 'last']\n",
    "\n",
    "print(indexing_list[-1])"
   ]
  },
  {
   "cell_type": "markdown",
   "id": "ced6c522",
   "metadata": {},
   "source": [
    "This is actually part of a larger pattern. The item at index `-2` will be second from last, `-3` will be third from last, and so on.\n",
    "\n",
    "Try and print the second from the last element of the provided list:"
   ]
  },
  {
   "cell_type": "code",
   "execution_count": null,
   "id": "e83ff37d",
   "metadata": {},
   "outputs": [],
   "source": [
    "# Task: Print the second from the last element of the following list:\n",
    "\n",
    "task_last_index = [3,1,4,5,9,2,6]\n",
    "\n",
    "# ----- Your code below -----\n",
    "\n"
   ]
  },
  {
   "cell_type": "markdown",
   "id": "6f6f3ad1",
   "metadata": {},
   "source": [
    "Python also allows for a technique called **slicing**. Rather than indexing and accessing a single item from a list, you can actually retrieve a whole sublist. This is done with a colon `:` like `my_list[start:end]`. This sublist will include the item at element start, but not include the item at element end."
   ]
  },
  {
   "cell_type": "code",
   "execution_count": null,
   "id": "3b850e63",
   "metadata": {
    "scrolled": true
   },
   "outputs": [],
   "source": [
    "slicing_list = ['a', 'b', 'c', 'd', 'e']\n",
    "\n",
    "print(slicing_list[1:3])"
   ]
  },
  {
   "cell_type": "markdown",
   "id": "8dec1107",
   "metadata": {},
   "source": [
    "Try the following slicing example:"
   ]
  },
  {
   "cell_type": "code",
   "execution_count": null,
   "id": "c9cecc5a",
   "metadata": {},
   "outputs": [],
   "source": [
    "# Task: Print the sublist of the middle 3 elements of the following list\n",
    "# (Hint: use negative indexing to make it easier!)\n",
    "\n",
    "task_slicing_list = [1, 5, 6, 7, 2]\n",
    "\n",
    "# ----- Your code below -----\n",
    "\n"
   ]
  },
  {
   "cell_type": "markdown",
   "id": "de1d1f98",
   "metadata": {},
   "source": [
    "#### Other List Operations"
   ]
  },
  {
   "cell_type": "markdown",
   "id": "8731f567",
   "metadata": {},
   "source": [
    "One useful function for lists is the `len(my_list)` function, which tells you how many elements are in a given list."
   ]
  },
  {
   "cell_type": "code",
   "execution_count": null,
   "id": "6dc9eec3",
   "metadata": {
    "scrolled": true
   },
   "outputs": [],
   "source": [
    "print(len([1,3,5,7,9]))"
   ]
  },
  {
   "cell_type": "markdown",
   "id": "adf73e3f",
   "metadata": {},
   "source": [
    "Try and find the length of this strange list:"
   ]
  },
  {
   "cell_type": "code",
   "execution_count": null,
   "id": "aab7d17d",
   "metadata": {},
   "outputs": [],
   "source": [
    "# Task: Print the length of this provided list\n",
    "\n",
    "find_my_length = list(range(2,50,3))\n",
    "\n",
    "# ----- Your code below -----\n",
    "\n",
    "print(len(find_my_length))"
   ]
  },
  {
   "cell_type": "markdown",
   "id": "c8d9ddcb",
   "metadata": {},
   "source": [
    "You can check if a value is contained within a list using the `in` keyword like `x in my_list`, and it will return either True or False."
   ]
  },
  {
   "cell_type": "code",
   "execution_count": null,
   "id": "f1b3a812",
   "metadata": {
    "scrolled": true
   },
   "outputs": [],
   "source": [
    "reference_list = [2,3,5,7,11,13,17,19,23,29]\n",
    "\n",
    "print(11 in reference_list)\n",
    "print(10 in reference_list)"
   ]
  },
  {
   "cell_type": "markdown",
   "id": "f972f212",
   "metadata": {},
   "source": [
    "Try and check if 10, 11, and 12 are in the provided list:"
   ]
  },
  {
   "cell_type": "code",
   "execution_count": null,
   "id": "5676c4e4",
   "metadata": {},
   "outputs": [],
   "source": [
    "# Task: Check if 10, 11, and 12 are in the provided list. Print the results.\n",
    "\n",
    "search_this_list = list(range(2,50,3))\n",
    "\n",
    "# ----- Your code below -----\n",
    "\n"
   ]
  },
  {
   "cell_type": "markdown",
   "id": "801ccb91",
   "metadata": {},
   "source": [
    "You can also concatenate lists using the `+` operator like so:"
   ]
  },
  {
   "cell_type": "code",
   "execution_count": null,
   "id": "4eb4138d",
   "metadata": {
    "scrolled": false
   },
   "outputs": [],
   "source": [
    "list_one = [1,4,5]\n",
    "list_two = [6,7]\n",
    "\n",
    "print(list_one + list_two)"
   ]
  },
  {
   "cell_type": "markdown",
   "id": "1a7725b7",
   "metadata": {},
   "source": [
    "Here are a couple of other useful list functions:\n",
    "\n",
    "* `max(my_list)` returns the largest value in a list\n",
    "* `min(my_list)` returns the smallest value in a list\n",
    "* `sum(my_list)` returns the sum of the elements in a list\n",
    "\n",
    "For example, you could use `max` and `min` to compute the range of a list:"
   ]
  },
  {
   "cell_type": "code",
   "execution_count": null,
   "id": "323cae9c",
   "metadata": {
    "scrolled": true
   },
   "outputs": [],
   "source": [
    "list_to_range = [1,10,100,-5,2,3,4,5,6,7,8,9]\n",
    "\n",
    "print('Range is',max(list_to_range) - min(list_to_range))"
   ]
  },
  {
   "cell_type": "markdown",
   "id": "21a3dbc8",
   "metadata": {},
   "source": [
    "Try to calculate the average of a provided list:"
   ]
  },
  {
   "cell_type": "code",
   "execution_count": null,
   "id": "45fd8d56",
   "metadata": {},
   "outputs": [],
   "source": [
    "# Task: Calculate and print the average of this provided list\n",
    "\n",
    "list_to_avg = [3,1,4,1,5,9,2]\n",
    "\n",
    "# ----- Your code below -----\n",
    "\n"
   ]
  },
  {
   "cell_type": "markdown",
   "id": "a36b47e6",
   "metadata": {},
   "source": [
    "#### Strings as Lists"
   ]
  },
  {
   "cell_type": "markdown",
   "id": "00da45ba",
   "metadata": {},
   "source": [
    "Incidentally, strings can also be thought of as like\\* a list of characters. That means you can index them just like a list:\n",
    "\n",
    "\\* *The characters of a string can be accessed like a list, but don't try to manipulate a string as you would a list. Strings are actually immutable, meaning you cannot change them. Functions on strings just return a modified copy, but make no changes to the original strings.*"
   ]
  },
  {
   "cell_type": "code",
   "execution_count": null,
   "id": "c86e5f3f",
   "metadata": {
    "scrolled": false
   },
   "outputs": [],
   "source": [
    "print('Hello'[3:])"
   ]
  },
  {
   "cell_type": "markdown",
   "id": "066abb8f",
   "metadata": {},
   "source": [
    "Try this example:"
   ]
  },
  {
   "cell_type": "code",
   "execution_count": null,
   "id": "8ebffda5",
   "metadata": {},
   "outputs": [],
   "source": [
    "# Optional task: Print the characters at index 4 through 6 and index 20 \n",
    "# through 23 of string_to_index\n",
    "\n",
    "string_to_index = 'foeihemcnvyqoanzjfuelloabxhftwa'\n",
    "\n",
    "# ----- Your code below -----\n",
    "\n"
   ]
  },
  {
   "cell_type": "markdown",
   "id": "44790f5a",
   "metadata": {},
   "source": [
    "You can also split up a string into a list of substrings. For example, if you have a string like `x=\"one,two,three\"`, you can use `x.split(',')` to get a list of `one`, `two`, and `three`."
   ]
  },
  {
   "cell_type": "code",
   "execution_count": null,
   "id": "fc251335",
   "metadata": {
    "scrolled": true
   },
   "outputs": [],
   "source": [
    "print(\"one,two,three\".split(','))"
   ]
  },
  {
   "cell_type": "markdown",
   "id": "a5080dbb",
   "metadata": {},
   "source": [
    "Here's an exercise for you to try out the `split()` function:"
   ]
  },
  {
   "cell_type": "code",
   "execution_count": null,
   "id": "8ce411f2",
   "metadata": {},
   "outputs": [],
   "source": [
    "# Task: Split unsplit_string into a list of its words, and print out \n",
    "# that list\n",
    "\n",
    "unsplit_string = 'word by word by word'\n",
    "\n",
    "# ----- Your code below -----\n",
    "\n"
   ]
  },
  {
   "cell_type": "markdown",
   "id": "fb4efcd4",
   "metadata": {},
   "source": [
    "#### Multi-Dimensional Lists"
   ]
  },
  {
   "cell_type": "markdown",
   "id": "0455639c",
   "metadata": {},
   "source": [
    "You can structure 2-dimensional lists by putting lists inside of lists. This will create something like a matrix, and look like this:"
   ]
  },
  {
   "cell_type": "code",
   "execution_count": null,
   "id": "d4572199",
   "metadata": {},
   "outputs": [],
   "source": [
    "two_dim_list = [\n",
    "    [1,2,3],\n",
    "    [4,5,6]\n",
    "]\n",
    "\n",
    "print(two_dim_list)"
   ]
  },
  {
   "cell_type": "markdown",
   "id": "9e8d1d7f",
   "metadata": {},
   "source": [
    "*(You could techincally define it in one line, but this way looks nicer and is easier to read.)*"
   ]
  },
  {
   "cell_type": "markdown",
   "id": "4bc25775",
   "metadata": {},
   "source": [
    "To access elements of a multi-dimensional list, put consecutive square brackets like `my_list[row][column]`. For example:"
   ]
  },
  {
   "cell_type": "code",
   "execution_count": null,
   "id": "d472bdd1",
   "metadata": {},
   "outputs": [],
   "source": [
    "two_dim_list = [\n",
    "    [1,2,3],\n",
    "    [4,5,6]\n",
    "]\n",
    "\n",
    "print(two_dim_list[0][1])"
   ]
  },
  {
   "cell_type": "markdown",
   "id": "2c58171b",
   "metadata": {},
   "source": [
    "Try this example on adding the corner elements of the provided two-dimensional list:"
   ]
  },
  {
   "cell_type": "code",
   "execution_count": null,
   "id": "5613155a",
   "metadata": {},
   "outputs": [],
   "source": [
    "# Task: Calculate and print the sum of the corner elements of this list\n",
    "\n",
    "two_dim_list = [\n",
    "    [5,4,3],\n",
    "    [7,8,9],\n",
    "    [2,3,4]\n",
    "]\n",
    "\n",
    "# ----- Your code below -----\n",
    "\n"
   ]
  },
  {
   "cell_type": "markdown",
   "id": "c0129473",
   "metadata": {},
   "source": [
    "### Tuples"
   ]
  },
  {
   "cell_type": "markdown",
   "id": "b3a58159",
   "metadata": {},
   "source": [
    "Tuples are like lists, but they are *immutable* meaning they cannot be modified. This is useful in some higher-level contexts.\n",
    "\n",
    "Defining a tuple is a lot like defining a list, except with parenthesis `()` instead of square brackets `[]`. However, you still index elements of a tuple with square brackets."
   ]
  },
  {
   "cell_type": "code",
   "execution_count": null,
   "id": "c5386953",
   "metadata": {
    "scrolled": false
   },
   "outputs": [],
   "source": [
    "my_tuple = (1,2,3)\n",
    "print(my_tuple)\n",
    "print(my_tuple[2])"
   ]
  },
  {
   "cell_type": "code",
   "execution_count": null,
   "id": "3cf65b4a",
   "metadata": {
    "scrolled": false
   },
   "outputs": [],
   "source": [
    "my_tuple = (4,5,6)\n",
    "my_tuple[1] = 2 # tuples are immutable!"
   ]
  },
  {
   "cell_type": "markdown",
   "id": "bf0ba579",
   "metadata": {},
   "source": [
    "### Dictionaries"
   ]
  },
  {
   "cell_type": "markdown",
   "id": "3518bb72",
   "metadata": {},
   "source": [
    "Dictionaries are another type of data structure available to use in Python. Rather than storing items by index, dictionaries serve as a map between keys and values.\n",
    "\n",
    "You can create a dictionary with curly braces `{}`, and define key and value pairs like `key: value`. You can then access the values with their key using square brackets `[]` like `my_dict[key]`. You can also use the `my_dict.get(key)` function.\n",
    "\n",
    "For example:"
   ]
  },
  {
   "cell_type": "code",
   "execution_count": null,
   "id": "dcb364d5",
   "metadata": {},
   "outputs": [],
   "source": [
    "my_dict = {\n",
    "    'name': 'Brandon',\n",
    "    'major': 'Physics',\n",
    "    'hometown': 'Cypress',\n",
    "}\n",
    "\n",
    "print(my_dict['name'])\n",
    "print(my_dict.get('major'))\n",
    "print(my_dict.get('favorite color')) # Will return None if not found"
   ]
  },
  {
   "cell_type": "markdown",
   "id": "1e71d90a",
   "metadata": {},
   "source": [
    "*(Once again, you could define it in one line. But this way looks nicer :-) )*"
   ]
  },
  {
   "cell_type": "markdown",
   "id": "bb2742ef",
   "metadata": {},
   "source": [
    "Dictionaries provide a few useful functions. As you may expect, `len(my_dict)` still works and tells you the number of key-value pairs in your dictionary."
   ]
  },
  {
   "cell_type": "code",
   "execution_count": null,
   "id": "bd00fd50",
   "metadata": {},
   "outputs": [],
   "source": [
    "my_dict = {\n",
    "    'name': 'Brandon',\n",
    "    'major': 'Physics',\n",
    "    'hometown': 'Cypress',\n",
    "}\n",
    "\n",
    "print(len(my_dict))"
   ]
  },
  {
   "cell_type": "markdown",
   "id": "2883f9df",
   "metadata": {},
   "source": [
    "You can access a list of keys in your dictionary with `my_dict.keys()`. Similarly, you can access a list of values in your dictionary with `my_dict.values()`. These will function as immutable lists."
   ]
  },
  {
   "cell_type": "code",
   "execution_count": null,
   "id": "c427a198",
   "metadata": {},
   "outputs": [],
   "source": [
    "my_dict = {\n",
    "    'name': 'Brandon',\n",
    "    'major': 'Physics',\n",
    "    'hometown': 'Cypress',\n",
    "}\n",
    "\n",
    "print(my_dict.keys())\n",
    "print(my_dict.values())"
   ]
  },
  {
   "cell_type": "markdown",
   "id": "5f846c16",
   "metadata": {},
   "source": [
    "Another useful way to access dictionary items is with `my_dict.items()`, which returns your dictionary as a list of key-value tuples."
   ]
  },
  {
   "cell_type": "code",
   "execution_count": null,
   "id": "9b426e3e",
   "metadata": {},
   "outputs": [],
   "source": [
    "my_dict = {\n",
    "    'name': 'Brandon',\n",
    "    'major': 'Physics',\n",
    "    'hometown': 'Cypress',\n",
    "}\n",
    "\n",
    "print(my_dict.items())\n",
    "print(list(my_dict.items())[0])"
   ]
  },
  {
   "cell_type": "markdown",
   "id": "b39dae37",
   "metadata": {},
   "source": [
    "## Control Flow"
   ]
  },
  {
   "cell_type": "markdown",
   "id": "3f16db5a",
   "metadata": {},
   "source": [
    "### If Statements"
   ]
  },
  {
   "cell_type": "markdown",
   "id": "7dbb2caa",
   "metadata": {},
   "source": [
    "An `if` statement is a structure in Python that allows you to execute certain code only if a certain condition is evaluated to `True`. This would look like:\n",
    "\n",
    "`if condition:`\n",
    "\n",
    "&nbsp;&nbsp;&nbsp;&nbsp;`code to execute`\n",
    "\n",
    "Note that the `:` after condition is required, and the tab whitespace before code to execute is also required. See the following examples:"
   ]
  },
  {
   "cell_type": "code",
   "execution_count": null,
   "id": "b00db193",
   "metadata": {},
   "outputs": [],
   "source": [
    "if True:\n",
    "    print('First if')\n",
    "    \n",
    "if False:\n",
    "    print(\"Never gonna happen\")\n",
    "print('Outside of second if, this will run!')"
   ]
  },
  {
   "cell_type": "markdown",
   "id": "a7d1427f",
   "metadata": {},
   "source": [
    "This is an excellent opportunity to implement the boolean operators that we discussed above.\n",
    "\n",
    "Try to modify the value of x in the following cell and see when it outputs:"
   ]
  },
  {
   "cell_type": "code",
   "execution_count": null,
   "id": "88ab60e4",
   "metadata": {},
   "outputs": [],
   "source": [
    "# Task: Modify the value of x and see when you get output.\n",
    "\n",
    "# Modify this line below:\n",
    "x = 0\n",
    "\n",
    "if x > 5 and x < 15:\n",
    "    print('Within range!')"
   ]
  },
  {
   "cell_type": "markdown",
   "id": "cdfc7a8c",
   "metadata": {},
   "source": [
    "Working with the `if` statement, we can also add the new keyword `else`. This will run code when the condition is False.\n",
    "\n",
    "Try to modify the value of x now and see what outputs you get:"
   ]
  },
  {
   "cell_type": "code",
   "execution_count": null,
   "id": "d7c74d99",
   "metadata": {},
   "outputs": [],
   "source": [
    "# Task: Modify the value of x and see when you get output.\n",
    "\n",
    "# Modify this line below:\n",
    "x = 0\n",
    "\n",
    "if x > 5 and x < 15:\n",
    "    print('Within range!')\n",
    "else:\n",
    "    print('Not within range :(')"
   ]
  },
  {
   "cell_type": "markdown",
   "id": "c52c6f7f",
   "metadata": {},
   "source": [
    "And finally, we have the `elif` statement, which is short for 'else if'. This will run when the first condition is False, but a new provided condition is True. You can develop a flow of logic using these statements.\n",
    "\n",
    "Try and modify the value of x in this example and see what happens:"
   ]
  },
  {
   "cell_type": "code",
   "execution_count": null,
   "id": "73695c55",
   "metadata": {},
   "outputs": [],
   "source": [
    "# Task: Modify the value of x and see when you get output.\n",
    "\n",
    "# Modify this line below:\n",
    "x = 0\n",
    "\n",
    "if x > 5 and x < 15:\n",
    "    print('Within our first range!')\n",
    "elif x > 20 and x < 30:\n",
    "    print('Within our second range!')\n",
    "else:\n",
    "    print('Not within either range :(')"
   ]
  },
  {
   "cell_type": "markdown",
   "id": "1ffb85c0",
   "metadata": {},
   "source": [
    "Here's an example exercise about checking multiples:"
   ]
  },
  {
   "cell_type": "code",
   "execution_count": null,
   "id": "318d4313",
   "metadata": {},
   "outputs": [],
   "source": [
    "# Task: Output a smiley face when a number is a multiple of 2.\n",
    "# If the number is not a multiple of 2 but *is* a multiple of 5,\n",
    "# output a frowney face.\n",
    "# Otherwise, output a neutral face.\n",
    "\n",
    "# ----- Your code below -----\n",
    "\n",
    "# Modify this number to test:\n",
    "x = 1\n",
    "\n",
    "# Write if/elif/else statement below:\n"
   ]
  },
  {
   "cell_type": "markdown",
   "id": "0dfacf42",
   "metadata": {},
   "source": [
    "### For Loops"
   ]
  },
  {
   "cell_type": "markdown",
   "id": "b6fa6cfd",
   "metadata": {},
   "source": [
    "#### Precursor: The `range()` Function"
   ]
  },
  {
   "cell_type": "markdown",
   "id": "84bc4df8",
   "metadata": {},
   "source": [
    "Before we get into `for` loops, you're going to want to know about this neat built-in of Python. The `range()` function in Python allows you to generate a sequence of numbers. For example, `range(stop)` will give you a sequence of numbers starting from `0` and ending at `stop`, not including `stop`.\n",
    "\n",
    "But the `range()` function doesn't actually return a list. It returns a `range` object. Rather than storing all of the numbers individually, Python will just keep the parameters of the range in mind. This makes some calculations a lot faster and takes up a lot less memory.\n",
    "\n",
    "See how a `range` object behaves below:"
   ]
  },
  {
   "cell_type": "code",
   "execution_count": null,
   "id": "874ffa74",
   "metadata": {},
   "outputs": [],
   "source": [
    "range_object = range(4)\n",
    "\n",
    "print(range_object)\n",
    "print(type(range_object))\n",
    "print(list(range_object)) # we can cast it to a list to actually get the numbers!\n",
    "\n",
    "print(range_object[1]) # we can still index it like a list, even though it's not quite a list.\n",
    "\n",
    "print(2 in range_object)\n",
    "print(2.1 in range_object)"
   ]
  },
  {
   "cell_type": "markdown",
   "id": "72b4c4c4",
   "metadata": {},
   "source": [
    "#### For Loops For Real"
   ]
  },
  {
   "cell_type": "markdown",
   "id": "22a9d206",
   "metadata": {},
   "source": [
    "For loops allow you to run code multiple times with a changing variable (or even variables!).\n",
    "\n",
    "The structure of a for loop is as follows:\n",
    "\n",
    "`for iteration_variable in iteration_range:`\n",
    "\n",
    "&nbsp;&nbsp;&nbsp;&nbsp;`code`\n",
    "\n",
    "Where the `:` and whitespace before `code` are required."
   ]
  },
  {
   "cell_type": "code",
   "execution_count": null,
   "id": "30e393d9",
   "metadata": {
    "scrolled": true
   },
   "outputs": [],
   "source": [
    "for i in range(5):\n",
    "    print(i)"
   ]
  },
  {
   "cell_type": "markdown",
   "id": "0b791bab",
   "metadata": {},
   "source": [
    "The `range` function can actually take in a few inputs of the following structure: `range(start, stop, step)` where `start` is the (inclusive) beginning, `stop` is the (exclusive) end, and `step` is the step between."
   ]
  },
  {
   "cell_type": "code",
   "execution_count": null,
   "id": "280fb20c",
   "metadata": {
    "scrolled": true
   },
   "outputs": [],
   "source": [
    "for i in range(4,10,2):\n",
    "    print(i)"
   ]
  },
  {
   "cell_type": "markdown",
   "id": "05b6c32b",
   "metadata": {},
   "source": [
    "Try the following example:"
   ]
  },
  {
   "cell_type": "code",
   "execution_count": null,
   "id": "efdd6e93",
   "metadata": {
    "scrolled": true
   },
   "outputs": [],
   "source": [
    "# Task: Print numbers from 4 to 24 (including 24!) in increments of 5\n",
    "# ----- Your code below -----\n",
    "\n"
   ]
  },
  {
   "cell_type": "markdown",
   "id": "2f111dda",
   "metadata": {},
   "source": [
    "In the structure of a `for` loop, `iteration_range` can actually be a list. For example:"
   ]
  },
  {
   "cell_type": "code",
   "execution_count": null,
   "id": "9a792cb1",
   "metadata": {
    "scrolled": true
   },
   "outputs": [],
   "source": [
    "for x in [2,3,5,7,11,13,17,19,23,29]:\n",
    "    print(x%6)"
   ]
  },
  {
   "cell_type": "markdown",
   "id": "2ce576b4",
   "metadata": {},
   "source": [
    "You can even nest for loops within other for loops, like so:"
   ]
  },
  {
   "cell_type": "code",
   "execution_count": null,
   "id": "ffbf02da",
   "metadata": {
    "scrolled": false
   },
   "outputs": [],
   "source": [
    "for i in range(2,10):\n",
    "    for j in range(2,i):\n",
    "        if i % j == 0 and i != j:\n",
    "            print(i,j)"
   ]
  },
  {
   "cell_type": "markdown",
   "id": "4ef741df",
   "metadata": {},
   "source": [
    "Here are a couple of example problems:"
   ]
  },
  {
   "cell_type": "code",
   "execution_count": null,
   "id": "7c155d61",
   "metadata": {
    "scrolled": false
   },
   "outputs": [],
   "source": [
    "# Task: Print the first 10 even numbers using a for loop\n",
    "\n",
    "# ----- Your code below -----\n",
    "\n"
   ]
  },
  {
   "cell_type": "code",
   "execution_count": null,
   "id": "df25ce3d",
   "metadata": {},
   "outputs": [],
   "source": [
    "# Task: Use a for loop to print the elements of a list in reverse order\n",
    "\n",
    "task_list = ['one', 'two', 'three', 'four', 'five']\n",
    "\n",
    "# ----- Your code below -----\n",
    "\n"
   ]
  },
  {
   "cell_type": "markdown",
   "id": "e1451c66",
   "metadata": {},
   "source": [
    "### While Loops"
   ]
  },
  {
   "cell_type": "markdown",
   "id": "56176c5a",
   "metadata": {},
   "source": [
    "A `while` loop allows you to run code repeatedly as long as a condition is true. The structure looks like:\n",
    "\n",
    "`while condition:`\n",
    "\n",
    "&nbsp;&nbsp;&nbsp;&nbsp;`code`\n",
    "\n",
    "Where, again, the `:` and whitespace are necessary.\n",
    "\n",
    "The while loop will run while condition evaluates to `True`, and then stop when it becomes `False`. This means that your code should modify the condition, otherwise you could end up with an infinite loop!\n",
    "\n",
    "Here's a simple-to-follow example of a while loop that also introduces the `+=` operator, where `x+=b` replaces `x=x+b`:"
   ]
  },
  {
   "cell_type": "code",
   "execution_count": null,
   "id": "5c92f8c7",
   "metadata": {
    "scrolled": true
   },
   "outputs": [],
   "source": [
    "x = 0\n",
    "\n",
    "while x < 5:\n",
    "    print(x)\n",
    "    x += 1 # equivalent to x = x + 1"
   ]
  },
  {
   "cell_type": "markdown",
   "id": "543f6120",
   "metadata": {},
   "source": [
    "## Functions"
   ]
  },
  {
   "cell_type": "markdown",
   "id": "b0e64354",
   "metadata": {},
   "source": [
    "The `print()` statement that you've been using so far is an example of a **function**. A function is essentially a reference to a block of code that you can run on demand. This is very useful if you're doing any sort of repetitive calculations. Functions are created with the `def` keyword.\n",
    "\n",
    "The most basic function has no inputs and no outputs. That kind of function might look something like:\n",
    "\n",
    "`def basic_function():`\n",
    "\n",
    "&nbsp;&nbsp;&nbsp;&nbsp;`print(\"So basic!\")`\n",
    "\n",
    "The structure of this function block with the `:` and the tab whitespace are the same as with other previously-discussed control flow blocks like `if` statements.\n",
    "\n",
    "In order to run a function, you would write `basic_function()`. See how this example works in the cell below:"
   ]
  },
  {
   "cell_type": "code",
   "execution_count": null,
   "id": "30609c9f",
   "metadata": {},
   "outputs": [],
   "source": [
    "def basic_function():\n",
    "    print(\"So basic!\")\n",
    "    \n",
    "basic_function()"
   ]
  },
  {
   "cell_type": "markdown",
   "id": "1432fd94",
   "metadata": {},
   "source": [
    "Try writing and running your own function below:"
   ]
  },
  {
   "cell_type": "code",
   "execution_count": null,
   "id": "6185db0f",
   "metadata": {},
   "outputs": [],
   "source": [
    "# Task: Write your own function and execute it\n",
    "# ----- Your code below -----\n",
    "\n"
   ]
  },
  {
   "cell_type": "markdown",
   "id": "0255be41",
   "metadata": {},
   "source": [
    "Like the `print()` statement, functions can also take in inputs. The variables you want to include simply go within the parenthesis of the definition. The following code block is an example of a function with two inputs:"
   ]
  },
  {
   "cell_type": "code",
   "execution_count": null,
   "id": "5c6a83b0",
   "metadata": {},
   "outputs": [],
   "source": [
    "def inputs_function(first, second):\n",
    "    print('Sum is', first + second)\n",
    "    \n",
    "inputs_function(1, 2)\n",
    "inputs_function(-10.5, 2.3)"
   ]
  },
  {
   "cell_type": "markdown",
   "id": "4613153a",
   "metadata": {},
   "source": [
    "Try writing your own function that prints the difference of two inputs, and test it:"
   ]
  },
  {
   "cell_type": "code",
   "execution_count": null,
   "id": "c117f48b",
   "metadata": {},
   "outputs": [],
   "source": [
    "# Task: Write a function to print the difference of two provided inputs\n",
    "# and then test the function.\n",
    "# ----- Your code below -----\n",
    "\n"
   ]
  },
  {
   "cell_type": "markdown",
   "id": "728dbd39",
   "metadata": {},
   "source": [
    "Rather than printing out the results of a function, you can also return the results to the function call. This is done within the function body using the `return` keyword."
   ]
  },
  {
   "cell_type": "code",
   "execution_count": null,
   "id": "108b5f59",
   "metadata": {
    "scrolled": true
   },
   "outputs": [],
   "source": [
    "def whole_divide(num1, num2):\n",
    "    return int(num1/num2)\n",
    "\n",
    "print(whole_divide(5,3))\n",
    "print(whole_divide(10,3))"
   ]
  },
  {
   "cell_type": "markdown",
   "id": "2c3d68c3",
   "metadata": {},
   "source": [
    "Note that as soon as you return something, you leave the function. Code after an executed return will not be run."
   ]
  },
  {
   "cell_type": "code",
   "execution_count": null,
   "id": "b1d9c1e8",
   "metadata": {},
   "outputs": [],
   "source": [
    "def return_example():\n",
    "    print('Before the return')\n",
    "    return \n",
    "    # ^ you don't have to actually return anything!\n",
    "    print(\"After the return\")\n",
    "    \n",
    "return_example()"
   ]
  },
  {
   "cell_type": "markdown",
   "id": "48afb071",
   "metadata": {},
   "source": [
    "Try to write your own function to return the absolute value of a number:\n",
    "\n",
    "*(Hint: if the number is less than zero, return the negative of the number. Otherwise, return the original number)*"
   ]
  },
  {
   "cell_type": "code",
   "execution_count": null,
   "id": "8546c86c",
   "metadata": {},
   "outputs": [],
   "source": [
    "# Task: Write a function to return the absolute value of the input\n",
    "# ----- Your code below -----\n",
    "\n"
   ]
  },
  {
   "cell_type": "code",
   "execution_count": null,
   "id": "eff93a61",
   "metadata": {},
   "outputs": [],
   "source": []
  }
 ],
 "metadata": {
  "kernelspec": {
   "display_name": "Python 3 (ipykernel)",
   "language": "python",
   "name": "python3"
  },
  "language_info": {
   "codemirror_mode": {
    "name": "ipython",
    "version": 3
   },
   "file_extension": ".py",
   "mimetype": "text/x-python",
   "name": "python",
   "nbconvert_exporter": "python",
   "pygments_lexer": "ipython3",
   "version": "3.7.3"
  }
 },
 "nbformat": 4,
 "nbformat_minor": 5
}
